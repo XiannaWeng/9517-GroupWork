{
  "cells": [
    {
      "cell_type": "code",
      "execution_count": 1,
      "metadata": {
        "colab": {
          "base_uri": "https://localhost:8080/",
          "height": 1000
        },
        "id": "uvDhdMU2jVtp",
        "outputId": "ae94551e-5903-4537-dd04-593aa2f9b293"
      },
      "outputs": [
        {
          "name": "stdout",
          "output_type": "stream",
          "text": [
            "Mounted at /content/drive\n"
          ]
        },
        {
          "name": "stderr",
          "output_type": "stream",
          "text": [
            "Splitting datasets: 100%|██████████| 15/15 [02:47<00:00, 11.16s/it]\n",
            "Downloading: \"https://download.pytorch.org/models/efficientnet_b0_rwightman-7f5810bc.pth\" to /root/.cache/torch/hub/checkpoints/efficientnet_b0_rwightman-7f5810bc.pth\n"
          ]
        },
        {
          "name": "stdout",
          "output_type": "stream",
          "text": [
            "[DEBUG] train samples: 9608\n",
            "[DEBUG] test  samples: 2402\n",
            "[DEBUG] classes: ['Agriculture', 'Airport', 'Beach', 'City', 'Desert', 'Forest', 'Grassland', 'Highway', 'Lake', 'Mountain', 'Parking', 'Port', 'Railway', 'Residential', 'River']\n",
            "\n"
          ]
        },
        {
          "name": "stderr",
          "output_type": "stream",
          "text": [
            "100%|██████████| 20.5M/20.5M [00:00<00:00, 127MB/s] \n"
          ]
        },
        {
          "name": "stdout",
          "output_type": "stream",
          "text": [
            "Starting training...\n",
            "\n"
          ]
        },
        {
          "name": "stderr",
          "output_type": "stream",
          "text": []
        },
        {
          "name": "stdout",
          "output_type": "stream",
          "text": [
            "Epoch   1/100: Loss=1.0778, Acc=0.7325\n"
          ]
        },
        {
          "name": "stderr",
          "output_type": "stream",
          "text": []
        },
        {
          "name": "stdout",
          "output_type": "stream",
          "text": [
            "Epoch   2/100: Loss=0.5707, Acc=0.8340\n"
          ]
        },
        {
          "name": "stderr",
          "output_type": "stream",
          "text": []
        },
        {
          "name": "stdout",
          "output_type": "stream",
          "text": [
            "Epoch   3/100: Loss=0.4908, Acc=0.8544\n"
          ]
        },
        {
          "name": "stderr",
          "output_type": "stream",
          "text": []
        },
        {
          "name": "stdout",
          "output_type": "stream",
          "text": [
            "Epoch   4/100: Loss=0.4660, Acc=0.8525\n"
          ]
        },
        {
          "name": "stderr",
          "output_type": "stream",
          "text": []
        },
        {
          "name": "stdout",
          "output_type": "stream",
          "text": [
            "Epoch   5/100: Loss=0.4230, Acc=0.8685\n"
          ]
        },
        {
          "name": "stderr",
          "output_type": "stream",
          "text": []
        },
        {
          "name": "stdout",
          "output_type": "stream",
          "text": [
            "Epoch   6/100: Loss=0.4164, Acc=0.8681\n"
          ]
        },
        {
          "name": "stderr",
          "output_type": "stream",
          "text": []
        },
        {
          "name": "stdout",
          "output_type": "stream",
          "text": [
            "Epoch   7/100: Loss=0.3923, Acc=0.8773\n"
          ]
        },
        {
          "name": "stderr",
          "output_type": "stream",
          "text": []
        },
        {
          "name": "stdout",
          "output_type": "stream",
          "text": [
            "Epoch   8/100: Loss=0.3858, Acc=0.8729\n"
          ]
        },
        {
          "name": "stderr",
          "output_type": "stream",
          "text": []
        },
        {
          "name": "stdout",
          "output_type": "stream",
          "text": [
            "Epoch   9/100: Loss=0.3716, Acc=0.8794\n"
          ]
        },
        {
          "name": "stderr",
          "output_type": "stream",
          "text": []
        },
        {
          "name": "stdout",
          "output_type": "stream",
          "text": [
            "Epoch  10/100: Loss=0.3713, Acc=0.8804\n"
          ]
        },
        {
          "name": "stderr",
          "output_type": "stream",
          "text": []
        },
        {
          "name": "stdout",
          "output_type": "stream",
          "text": [
            "Epoch  11/100: Loss=0.3673, Acc=0.8792\n"
          ]
        },
        {
          "name": "stderr",
          "output_type": "stream",
          "text": []
        },
        {
          "name": "stdout",
          "output_type": "stream",
          "text": [
            "Epoch  12/100: Loss=0.3581, Acc=0.8840\n"
          ]
        },
        {
          "name": "stderr",
          "output_type": "stream",
          "text": []
        },
        {
          "name": "stdout",
          "output_type": "stream",
          "text": [
            "Epoch  13/100: Loss=0.3589, Acc=0.8826\n"
          ]
        },
        {
          "name": "stderr",
          "output_type": "stream",
          "text": []
        },
        {
          "name": "stdout",
          "output_type": "stream",
          "text": [
            "Epoch  14/100: Loss=0.3455, Acc=0.8899\n"
          ]
        },
        {
          "name": "stderr",
          "output_type": "stream",
          "text": []
        },
        {
          "name": "stdout",
          "output_type": "stream",
          "text": [
            "Epoch  15/100: Loss=0.3445, Acc=0.8837\n"
          ]
        },
        {
          "name": "stderr",
          "output_type": "stream",
          "text": []
        },
        {
          "name": "stdout",
          "output_type": "stream",
          "text": [
            "Epoch  16/100: Loss=0.3408, Acc=0.8886\n"
          ]
        },
        {
          "name": "stderr",
          "output_type": "stream",
          "text": []
        },
        {
          "name": "stdout",
          "output_type": "stream",
          "text": [
            "Epoch  17/100: Loss=0.3489, Acc=0.8869\n"
          ]
        },
        {
          "name": "stderr",
          "output_type": "stream",
          "text": []
        },
        {
          "name": "stdout",
          "output_type": "stream",
          "text": [
            "Epoch  18/100: Loss=0.3372, Acc=0.8883\n"
          ]
        },
        {
          "name": "stderr",
          "output_type": "stream",
          "text": []
        },
        {
          "name": "stdout",
          "output_type": "stream",
          "text": [
            "Epoch  19/100: Loss=0.3310, Acc=0.8886\n"
          ]
        },
        {
          "name": "stderr",
          "output_type": "stream",
          "text": []
        },
        {
          "name": "stdout",
          "output_type": "stream",
          "text": [
            "Epoch  20/100: Loss=0.3417, Acc=0.8886\n"
          ]
        },
        {
          "name": "stderr",
          "output_type": "stream",
          "text": []
        },
        {
          "name": "stdout",
          "output_type": "stream",
          "text": [
            "Epoch  21/100: Loss=0.3273, Acc=0.8887\n"
          ]
        },
        {
          "name": "stderr",
          "output_type": "stream",
          "text": []
        },
        {
          "name": "stdout",
          "output_type": "stream",
          "text": [
            "Epoch  22/100: Loss=0.3316, Acc=0.8924\n"
          ]
        },
        {
          "name": "stderr",
          "output_type": "stream",
          "text": []
        },
        {
          "name": "stdout",
          "output_type": "stream",
          "text": [
            "Epoch  23/100: Loss=0.3339, Acc=0.8884\n"
          ]
        },
        {
          "name": "stderr",
          "output_type": "stream",
          "text": []
        },
        {
          "name": "stdout",
          "output_type": "stream",
          "text": [
            "Epoch  24/100: Loss=0.3253, Acc=0.8897\n"
          ]
        },
        {
          "name": "stderr",
          "output_type": "stream",
          "text": []
        },
        {
          "name": "stdout",
          "output_type": "stream",
          "text": [
            "Epoch  25/100: Loss=0.3271, Acc=0.8924\n"
          ]
        },
        {
          "name": "stderr",
          "output_type": "stream",
          "text": []
        },
        {
          "name": "stdout",
          "output_type": "stream",
          "text": [
            "Epoch  26/100: Loss=0.3300, Acc=0.8911\n"
          ]
        },
        {
          "name": "stderr",
          "output_type": "stream",
          "text": []
        },
        {
          "name": "stdout",
          "output_type": "stream",
          "text": [
            "Epoch  27/100: Loss=0.3185, Acc=0.8931\n"
          ]
        },
        {
          "name": "stderr",
          "output_type": "stream",
          "text": []
        },
        {
          "name": "stdout",
          "output_type": "stream",
          "text": [
            "Epoch  28/100: Loss=0.3317, Acc=0.8921\n"
          ]
        },
        {
          "name": "stderr",
          "output_type": "stream",
          "text": []
        },
        {
          "name": "stdout",
          "output_type": "stream",
          "text": [
            "Epoch  29/100: Loss=0.3249, Acc=0.8902\n"
          ]
        },
        {
          "name": "stderr",
          "output_type": "stream",
          "text": []
        },
        {
          "name": "stdout",
          "output_type": "stream",
          "text": [
            "Epoch  30/100: Loss=0.3197, Acc=0.8897\n"
          ]
        },
        {
          "name": "stderr",
          "output_type": "stream",
          "text": []
        },
        {
          "name": "stdout",
          "output_type": "stream",
          "text": [
            "Epoch  31/100: Loss=0.3307, Acc=0.8869\n"
          ]
        },
        {
          "name": "stderr",
          "output_type": "stream",
          "text": []
        },
        {
          "name": "stdout",
          "output_type": "stream",
          "text": [
            "Epoch  32/100: Loss=0.3233, Acc=0.8912\n"
          ]
        },
        {
          "name": "stderr",
          "output_type": "stream",
          "text": []
        },
        {
          "name": "stdout",
          "output_type": "stream",
          "text": [
            "Epoch  33/100: Loss=0.3145, Acc=0.8964\n"
          ]
        },
        {
          "name": "stderr",
          "output_type": "stream",
          "text": []
        },
        {
          "name": "stdout",
          "output_type": "stream",
          "text": [
            "Epoch  34/100: Loss=0.3302, Acc=0.8896\n"
          ]
        },
        {
          "name": "stderr",
          "output_type": "stream",
          "text": []
        },
        {
          "name": "stdout",
          "output_type": "stream",
          "text": [
            "Epoch  35/100: Loss=0.3136, Acc=0.8937\n"
          ]
        },
        {
          "name": "stderr",
          "output_type": "stream",
          "text": []
        },
        {
          "name": "stdout",
          "output_type": "stream",
          "text": [
            "Epoch  36/100: Loss=0.3258, Acc=0.8894\n"
          ]
        },
        {
          "name": "stderr",
          "output_type": "stream",
          "text": []
        },
        {
          "name": "stdout",
          "output_type": "stream",
          "text": [
            "Epoch  37/100: Loss=0.3193, Acc=0.8955\n"
          ]
        },
        {
          "name": "stderr",
          "output_type": "stream",
          "text": []
        },
        {
          "name": "stdout",
          "output_type": "stream",
          "text": [
            "Epoch  38/100: Loss=0.3253, Acc=0.8924\n"
          ]
        },
        {
          "name": "stderr",
          "output_type": "stream",
          "text": []
        },
        {
          "name": "stdout",
          "output_type": "stream",
          "text": [
            "Epoch  39/100: Loss=0.3239, Acc=0.8931\n"
          ]
        },
        {
          "name": "stderr",
          "output_type": "stream",
          "text": []
        },
        {
          "name": "stdout",
          "output_type": "stream",
          "text": [
            "Epoch  40/100: Loss=0.3187, Acc=0.8947\n"
          ]
        },
        {
          "name": "stderr",
          "output_type": "stream",
          "text": []
        },
        {
          "name": "stdout",
          "output_type": "stream",
          "text": [
            "Epoch  41/100: Loss=0.3166, Acc=0.8934\n"
          ]
        },
        {
          "name": "stderr",
          "output_type": "stream",
          "text": []
        },
        {
          "name": "stdout",
          "output_type": "stream",
          "text": [
            "Epoch  42/100: Loss=0.3180, Acc=0.8915\n"
          ]
        },
        {
          "name": "stderr",
          "output_type": "stream",
          "text": []
        },
        {
          "name": "stdout",
          "output_type": "stream",
          "text": [
            "Epoch  43/100: Loss=0.3111, Acc=0.8950\n"
          ]
        },
        {
          "name": "stderr",
          "output_type": "stream",
          "text": []
        },
        {
          "name": "stdout",
          "output_type": "stream",
          "text": [
            "Epoch  44/100: Loss=0.3169, Acc=0.8931\n"
          ]
        },
        {
          "name": "stderr",
          "output_type": "stream",
          "text": []
        },
        {
          "name": "stdout",
          "output_type": "stream",
          "text": [
            "Epoch  45/100: Loss=0.3205, Acc=0.8899\n"
          ]
        },
        {
          "name": "stderr",
          "output_type": "stream",
          "text": []
        },
        {
          "name": "stdout",
          "output_type": "stream",
          "text": [
            "Epoch  46/100: Loss=0.3248, Acc=0.8954\n"
          ]
        },
        {
          "name": "stderr",
          "output_type": "stream",
          "text": []
        },
        {
          "name": "stdout",
          "output_type": "stream",
          "text": [
            "Epoch  47/100: Loss=0.3294, Acc=0.8940\n"
          ]
        },
        {
          "name": "stderr",
          "output_type": "stream",
          "text": []
        },
        {
          "name": "stdout",
          "output_type": "stream",
          "text": [
            "Epoch  48/100: Loss=0.3244, Acc=0.8927\n"
          ]
        },
        {
          "name": "stderr",
          "output_type": "stream",
          "text": []
        },
        {
          "name": "stdout",
          "output_type": "stream",
          "text": [
            "Epoch  49/100: Loss=0.3173, Acc=0.8911\n"
          ]
        },
        {
          "name": "stderr",
          "output_type": "stream",
          "text": []
        },
        {
          "name": "stdout",
          "output_type": "stream",
          "text": [
            "Epoch  50/100: Loss=0.3312, Acc=0.8923\n"
          ]
        },
        {
          "name": "stderr",
          "output_type": "stream",
          "text": []
        },
        {
          "name": "stdout",
          "output_type": "stream",
          "text": [
            "Epoch  51/100: Loss=0.3172, Acc=0.8955\n"
          ]
        },
        {
          "name": "stderr",
          "output_type": "stream",
          "text": []
        },
        {
          "name": "stdout",
          "output_type": "stream",
          "text": [
            "Epoch  52/100: Loss=0.3209, Acc=0.8954\n"
          ]
        },
        {
          "name": "stderr",
          "output_type": "stream",
          "text": []
        },
        {
          "name": "stdout",
          "output_type": "stream",
          "text": [
            "Epoch  53/100: Loss=0.3249, Acc=0.8960\n"
          ]
        },
        {
          "name": "stderr",
          "output_type": "stream",
          "text": []
        },
        {
          "name": "stdout",
          "output_type": "stream",
          "text": [
            "Epoch  54/100: Loss=0.3274, Acc=0.8922\n"
          ]
        },
        {
          "name": "stderr",
          "output_type": "stream",
          "text": []
        },
        {
          "name": "stdout",
          "output_type": "stream",
          "text": [
            "Epoch  55/100: Loss=0.3133, Acc=0.8981\n"
          ]
        },
        {
          "name": "stderr",
          "output_type": "stream",
          "text": []
        },
        {
          "name": "stdout",
          "output_type": "stream",
          "text": [
            "Epoch  56/100: Loss=0.3006, Acc=0.9008\n"
          ]
        },
        {
          "name": "stderr",
          "output_type": "stream",
          "text": []
        },
        {
          "name": "stdout",
          "output_type": "stream",
          "text": [
            "Epoch  57/100: Loss=0.3179, Acc=0.8956\n"
          ]
        },
        {
          "name": "stderr",
          "output_type": "stream",
          "text": []
        },
        {
          "name": "stdout",
          "output_type": "stream",
          "text": [
            "Epoch  58/100: Loss=0.3095, Acc=0.8958\n"
          ]
        },
        {
          "name": "stderr",
          "output_type": "stream",
          "text": []
        },
        {
          "name": "stdout",
          "output_type": "stream",
          "text": [
            "Epoch  59/100: Loss=0.3180, Acc=0.8933\n"
          ]
        },
        {
          "name": "stderr",
          "output_type": "stream",
          "text": []
        },
        {
          "name": "stdout",
          "output_type": "stream",
          "text": [
            "Epoch  60/100: Loss=0.3133, Acc=0.8933\n"
          ]
        },
        {
          "name": "stderr",
          "output_type": "stream",
          "text": []
        },
        {
          "name": "stdout",
          "output_type": "stream",
          "text": [
            "Epoch  61/100: Loss=0.3277, Acc=0.8899\n"
          ]
        },
        {
          "name": "stderr",
          "output_type": "stream",
          "text": []
        },
        {
          "name": "stdout",
          "output_type": "stream",
          "text": [
            "Epoch  62/100: Loss=0.3136, Acc=0.8972\n"
          ]
        },
        {
          "name": "stderr",
          "output_type": "stream",
          "text": []
        },
        {
          "name": "stdout",
          "output_type": "stream",
          "text": [
            "Epoch  63/100: Loss=0.3071, Acc=0.8983\n"
          ]
        },
        {
          "name": "stderr",
          "output_type": "stream",
          "text": []
        },
        {
          "name": "stdout",
          "output_type": "stream",
          "text": [
            "Epoch  64/100: Loss=0.3192, Acc=0.8942\n"
          ]
        },
        {
          "name": "stderr",
          "output_type": "stream",
          "text": []
        },
        {
          "name": "stdout",
          "output_type": "stream",
          "text": [
            "Epoch  65/100: Loss=0.3049, Acc=0.8959\n"
          ]
        },
        {
          "name": "stderr",
          "output_type": "stream",
          "text": []
        },
        {
          "name": "stdout",
          "output_type": "stream",
          "text": [
            "Epoch  66/100: Loss=0.3147, Acc=0.8931\n"
          ]
        },
        {
          "name": "stderr",
          "output_type": "stream",
          "text": []
        },
        {
          "name": "stdout",
          "output_type": "stream",
          "text": [
            "Epoch  67/100: Loss=0.3098, Acc=0.8977\n"
          ]
        },
        {
          "name": "stderr",
          "output_type": "stream",
          "text": []
        },
        {
          "name": "stdout",
          "output_type": "stream",
          "text": [
            "Epoch  68/100: Loss=0.3201, Acc=0.8940\n"
          ]
        },
        {
          "name": "stderr",
          "output_type": "stream",
          "text": []
        },
        {
          "name": "stdout",
          "output_type": "stream",
          "text": [
            "Epoch  69/100: Loss=0.3300, Acc=0.8917\n"
          ]
        },
        {
          "name": "stderr",
          "output_type": "stream",
          "text": []
        },
        {
          "name": "stdout",
          "output_type": "stream",
          "text": [
            "Epoch  70/100: Loss=0.3190, Acc=0.8943\n"
          ]
        },
        {
          "name": "stderr",
          "output_type": "stream",
          "text": []
        },
        {
          "name": "stdout",
          "output_type": "stream",
          "text": [
            "Epoch  71/100: Loss=0.3243, Acc=0.8926\n"
          ]
        },
        {
          "name": "stderr",
          "output_type": "stream",
          "text": []
        },
        {
          "name": "stdout",
          "output_type": "stream",
          "text": [
            "Epoch  72/100: Loss=0.3098, Acc=0.8994\n"
          ]
        },
        {
          "name": "stderr",
          "output_type": "stream",
          "text": []
        },
        {
          "name": "stdout",
          "output_type": "stream",
          "text": [
            "Epoch  73/100: Loss=0.3144, Acc=0.8942\n"
          ]
        },
        {
          "name": "stderr",
          "output_type": "stream",
          "text": []
        },
        {
          "name": "stdout",
          "output_type": "stream",
          "text": [
            "Epoch  74/100: Loss=0.3170, Acc=0.8957\n"
          ]
        },
        {
          "name": "stderr",
          "output_type": "stream",
          "text": []
        },
        {
          "name": "stdout",
          "output_type": "stream",
          "text": [
            "Epoch  75/100: Loss=0.3307, Acc=0.8910\n"
          ]
        },
        {
          "name": "stderr",
          "output_type": "stream",
          "text": []
        },
        {
          "name": "stdout",
          "output_type": "stream",
          "text": [
            "Epoch  76/100: Loss=0.2975, Acc=0.8986\n"
          ]
        },
        {
          "name": "stderr",
          "output_type": "stream",
          "text": []
        },
        {
          "name": "stdout",
          "output_type": "stream",
          "text": [
            "Epoch  77/100: Loss=0.3031, Acc=0.9000\n"
          ]
        },
        {
          "name": "stderr",
          "output_type": "stream",
          "text": []
        },
        {
          "name": "stdout",
          "output_type": "stream",
          "text": [
            "Epoch  78/100: Loss=0.3213, Acc=0.8948\n"
          ]
        },
        {
          "name": "stderr",
          "output_type": "stream",
          "text": []
        },
        {
          "name": "stdout",
          "output_type": "stream",
          "text": [
            "Epoch  79/100: Loss=0.3098, Acc=0.8934\n"
          ]
        },
        {
          "name": "stderr",
          "output_type": "stream",
          "text": []
        },
        {
          "name": "stdout",
          "output_type": "stream",
          "text": [
            "Epoch  80/100: Loss=0.3158, Acc=0.8972\n"
          ]
        },
        {
          "name": "stderr",
          "output_type": "stream",
          "text": []
        },
        {
          "name": "stdout",
          "output_type": "stream",
          "text": [
            "Epoch  81/100: Loss=0.3094, Acc=0.8983\n"
          ]
        },
        {
          "name": "stderr",
          "output_type": "stream",
          "text": []
        },
        {
          "name": "stdout",
          "output_type": "stream",
          "text": [
            "Epoch  82/100: Loss=0.3015, Acc=0.9038\n"
          ]
        },
        {
          "name": "stderr",
          "output_type": "stream",
          "text": []
        },
        {
          "name": "stdout",
          "output_type": "stream",
          "text": [
            "Epoch  83/100: Loss=0.3182, Acc=0.8910\n"
          ]
        },
        {
          "name": "stderr",
          "output_type": "stream",
          "text": []
        },
        {
          "name": "stdout",
          "output_type": "stream",
          "text": [
            "Epoch  84/100: Loss=0.3226, Acc=0.8925\n"
          ]
        },
        {
          "name": "stderr",
          "output_type": "stream",
          "text": []
        },
        {
          "name": "stdout",
          "output_type": "stream",
          "text": [
            "Epoch  85/100: Loss=0.3158, Acc=0.8919\n"
          ]
        },
        {
          "name": "stderr",
          "output_type": "stream",
          "text": []
        },
        {
          "name": "stdout",
          "output_type": "stream",
          "text": [
            "Epoch  86/100: Loss=0.3196, Acc=0.8945\n"
          ]
        },
        {
          "name": "stderr",
          "output_type": "stream",
          "text": []
        },
        {
          "name": "stdout",
          "output_type": "stream",
          "text": [
            "Epoch  87/100: Loss=0.3270, Acc=0.8946\n"
          ]
        },
        {
          "name": "stderr",
          "output_type": "stream",
          "text": []
        },
        {
          "name": "stdout",
          "output_type": "stream",
          "text": [
            "Epoch  88/100: Loss=0.3125, Acc=0.8964\n"
          ]
        },
        {
          "name": "stderr",
          "output_type": "stream",
          "text": []
        },
        {
          "name": "stdout",
          "output_type": "stream",
          "text": [
            "Epoch  89/100: Loss=0.3162, Acc=0.8944\n"
          ]
        },
        {
          "name": "stderr",
          "output_type": "stream",
          "text": []
        },
        {
          "name": "stdout",
          "output_type": "stream",
          "text": [
            "Epoch  90/100: Loss=0.3177, Acc=0.8958\n"
          ]
        },
        {
          "name": "stderr",
          "output_type": "stream",
          "text": []
        },
        {
          "name": "stdout",
          "output_type": "stream",
          "text": [
            "Epoch  91/100: Loss=0.3143, Acc=0.8970\n"
          ]
        },
        {
          "name": "stderr",
          "output_type": "stream",
          "text": []
        },
        {
          "name": "stdout",
          "output_type": "stream",
          "text": [
            "Epoch  92/100: Loss=0.3184, Acc=0.8907\n"
          ]
        },
        {
          "name": "stderr",
          "output_type": "stream",
          "text": []
        },
        {
          "name": "stdout",
          "output_type": "stream",
          "text": [
            "Epoch  93/100: Loss=0.3150, Acc=0.8949\n"
          ]
        },
        {
          "name": "stderr",
          "output_type": "stream",
          "text": []
        },
        {
          "name": "stdout",
          "output_type": "stream",
          "text": [
            "Epoch  94/100: Loss=0.3240, Acc=0.8940\n"
          ]
        },
        {
          "name": "stderr",
          "output_type": "stream",
          "text": []
        },
        {
          "name": "stdout",
          "output_type": "stream",
          "text": [
            "Epoch  95/100: Loss=0.2955, Acc=0.9046\n"
          ]
        },
        {
          "name": "stderr",
          "output_type": "stream",
          "text": []
        },
        {
          "name": "stdout",
          "output_type": "stream",
          "text": [
            "Epoch  96/100: Loss=0.3169, Acc=0.9000\n"
          ]
        },
        {
          "name": "stderr",
          "output_type": "stream",
          "text": []
        },
        {
          "name": "stdout",
          "output_type": "stream",
          "text": [
            "Epoch  97/100: Loss=0.3207, Acc=0.8945\n"
          ]
        },
        {
          "name": "stderr",
          "output_type": "stream",
          "text": []
        },
        {
          "name": "stdout",
          "output_type": "stream",
          "text": [
            "Epoch  98/100: Loss=0.3176, Acc=0.8951\n"
          ]
        },
        {
          "name": "stderr",
          "output_type": "stream",
          "text": []
        },
        {
          "name": "stdout",
          "output_type": "stream",
          "text": [
            "Epoch  99/100: Loss=0.3115, Acc=0.8972\n"
          ]
        },
        {
          "name": "stderr",
          "output_type": "stream",
          "text": []
        },
        {
          "name": "stdout",
          "output_type": "stream",
          "text": [
            "Epoch 100/100: Loss=0.3177, Acc=0.8951\n",
            "\n",
            "=== Training History ===\n",
            "Epoch   1: Loss=1.0778, Acc=0.7325\n",
            "Epoch   2: Loss=0.5707, Acc=0.8340\n",
            "Epoch   3: Loss=0.4908, Acc=0.8544\n",
            "Epoch   4: Loss=0.4660, Acc=0.8525\n",
            "Epoch   5: Loss=0.4230, Acc=0.8685\n",
            "Epoch   6: Loss=0.4164, Acc=0.8681\n",
            "Epoch   7: Loss=0.3923, Acc=0.8773\n",
            "Epoch   8: Loss=0.3858, Acc=0.8729\n",
            "Epoch   9: Loss=0.3716, Acc=0.8794\n",
            "Epoch  10: Loss=0.3713, Acc=0.8804\n",
            "Epoch  11: Loss=0.3673, Acc=0.8792\n",
            "Epoch  12: Loss=0.3581, Acc=0.8840\n",
            "Epoch  13: Loss=0.3589, Acc=0.8826\n",
            "Epoch  14: Loss=0.3455, Acc=0.8899\n",
            "Epoch  15: Loss=0.3445, Acc=0.8837\n",
            "Epoch  16: Loss=0.3408, Acc=0.8886\n",
            "Epoch  17: Loss=0.3489, Acc=0.8869\n",
            "Epoch  18: Loss=0.3372, Acc=0.8883\n",
            "Epoch  19: Loss=0.3310, Acc=0.8886\n",
            "Epoch  20: Loss=0.3417, Acc=0.8886\n",
            "Epoch  21: Loss=0.3273, Acc=0.8887\n",
            "Epoch  22: Loss=0.3316, Acc=0.8924\n",
            "Epoch  23: Loss=0.3339, Acc=0.8884\n",
            "Epoch  24: Loss=0.3253, Acc=0.8897\n",
            "Epoch  25: Loss=0.3271, Acc=0.8924\n",
            "Epoch  26: Loss=0.3300, Acc=0.8911\n",
            "Epoch  27: Loss=0.3185, Acc=0.8931\n",
            "Epoch  28: Loss=0.3317, Acc=0.8921\n",
            "Epoch  29: Loss=0.3249, Acc=0.8902\n",
            "Epoch  30: Loss=0.3197, Acc=0.8897\n",
            "Epoch  31: Loss=0.3307, Acc=0.8869\n",
            "Epoch  32: Loss=0.3233, Acc=0.8912\n",
            "Epoch  33: Loss=0.3145, Acc=0.8964\n",
            "Epoch  34: Loss=0.3302, Acc=0.8896\n",
            "Epoch  35: Loss=0.3136, Acc=0.8937\n",
            "Epoch  36: Loss=0.3258, Acc=0.8894\n",
            "Epoch  37: Loss=0.3193, Acc=0.8955\n",
            "Epoch  38: Loss=0.3253, Acc=0.8924\n",
            "Epoch  39: Loss=0.3239, Acc=0.8931\n",
            "Epoch  40: Loss=0.3187, Acc=0.8947\n",
            "Epoch  41: Loss=0.3166, Acc=0.8934\n",
            "Epoch  42: Loss=0.3180, Acc=0.8915\n",
            "Epoch  43: Loss=0.3111, Acc=0.8950\n",
            "Epoch  44: Loss=0.3169, Acc=0.8931\n",
            "Epoch  45: Loss=0.3205, Acc=0.8899\n",
            "Epoch  46: Loss=0.3248, Acc=0.8954\n",
            "Epoch  47: Loss=0.3294, Acc=0.8940\n",
            "Epoch  48: Loss=0.3244, Acc=0.8927\n",
            "Epoch  49: Loss=0.3173, Acc=0.8911\n",
            "Epoch  50: Loss=0.3312, Acc=0.8923\n",
            "Epoch  51: Loss=0.3172, Acc=0.8955\n",
            "Epoch  52: Loss=0.3209, Acc=0.8954\n",
            "Epoch  53: Loss=0.3249, Acc=0.8960\n",
            "Epoch  54: Loss=0.3274, Acc=0.8922\n",
            "Epoch  55: Loss=0.3133, Acc=0.8981\n",
            "Epoch  56: Loss=0.3006, Acc=0.9008\n",
            "Epoch  57: Loss=0.3179, Acc=0.8956\n",
            "Epoch  58: Loss=0.3095, Acc=0.8958\n",
            "Epoch  59: Loss=0.3180, Acc=0.8933\n",
            "Epoch  60: Loss=0.3133, Acc=0.8933\n",
            "Epoch  61: Loss=0.3277, Acc=0.8899\n",
            "Epoch  62: Loss=0.3136, Acc=0.8972\n",
            "Epoch  63: Loss=0.3071, Acc=0.8983\n",
            "Epoch  64: Loss=0.3192, Acc=0.8942\n",
            "Epoch  65: Loss=0.3049, Acc=0.8959\n",
            "Epoch  66: Loss=0.3147, Acc=0.8931\n",
            "Epoch  67: Loss=0.3098, Acc=0.8977\n",
            "Epoch  68: Loss=0.3201, Acc=0.8940\n",
            "Epoch  69: Loss=0.3300, Acc=0.8917\n",
            "Epoch  70: Loss=0.3190, Acc=0.8943\n",
            "Epoch  71: Loss=0.3243, Acc=0.8926\n",
            "Epoch  72: Loss=0.3098, Acc=0.8994\n",
            "Epoch  73: Loss=0.3144, Acc=0.8942\n",
            "Epoch  74: Loss=0.3170, Acc=0.8957\n",
            "Epoch  75: Loss=0.3307, Acc=0.8910\n",
            "Epoch  76: Loss=0.2975, Acc=0.8986\n",
            "Epoch  77: Loss=0.3031, Acc=0.9000\n",
            "Epoch  78: Loss=0.3213, Acc=0.8948\n",
            "Epoch  79: Loss=0.3098, Acc=0.8934\n",
            "Epoch  80: Loss=0.3158, Acc=0.8972\n",
            "Epoch  81: Loss=0.3094, Acc=0.8983\n",
            "Epoch  82: Loss=0.3015, Acc=0.9038\n",
            "Epoch  83: Loss=0.3182, Acc=0.8910\n",
            "Epoch  84: Loss=0.3226, Acc=0.8925\n",
            "Epoch  85: Loss=0.3158, Acc=0.8919\n",
            "Epoch  86: Loss=0.3196, Acc=0.8945\n",
            "Epoch  87: Loss=0.3270, Acc=0.8946\n",
            "Epoch  88: Loss=0.3125, Acc=0.8964\n",
            "Epoch  89: Loss=0.3162, Acc=0.8944\n",
            "Epoch  90: Loss=0.3177, Acc=0.8958\n",
            "Epoch  91: Loss=0.3143, Acc=0.8970\n",
            "Epoch  92: Loss=0.3184, Acc=0.8907\n",
            "Epoch  93: Loss=0.3150, Acc=0.8949\n",
            "Epoch  94: Loss=0.3240, Acc=0.8940\n",
            "Epoch  95: Loss=0.2955, Acc=0.9046\n",
            "Epoch  96: Loss=0.3169, Acc=0.9000\n",
            "Epoch  97: Loss=0.3207, Acc=0.8945\n",
            "Epoch  98: Loss=0.3176, Acc=0.8951\n",
            "Epoch  99: Loss=0.3115, Acc=0.8972\n",
            "Epoch 100: Loss=0.3177, Acc=0.8951\n"
          ]
        },
        {
          "name": "stderr",
          "output_type": "stream",
          "text": []
        },
        {
          "name": "stdout",
          "output_type": "stream",
          "text": [
            "\n",
            "==================================================\n",
            "Precision: 0.9112   Recall: 0.9113   F1: 0.9101   Accuracy: 0.9113\n",
            "==================================================\n",
            "\n",
            "Classification Report:\n",
            "              precision    recall  f1-score   support\n",
            "\n",
            " Agriculture      0.936     0.901     0.918       162\n",
            "     Airport      0.923     0.900     0.911       160\n",
            "       Beach      0.937     0.925     0.931       160\n",
            "        City      0.893     0.944     0.918       160\n",
            "      Desert      0.900     0.956     0.927       160\n",
            "      Forest      0.981     0.956     0.968       160\n",
            "   Grassland      0.928     0.969     0.948       160\n",
            "     Highway      0.912     0.906     0.909       160\n",
            "        Lake      0.862     0.700     0.772       160\n",
            "    Mountain      0.854     0.950     0.899       160\n",
            "     Parking      0.945     0.975     0.960       160\n",
            "        Port      0.948     0.912     0.930       160\n",
            "     Railway      0.875     0.919     0.896       160\n",
            " Residential      0.918     0.981     0.949       160\n",
            "       River      0.855     0.775     0.813       160\n",
            "\n",
            "    accuracy                          0.911      2402\n",
            "   macro avg      0.911     0.911     0.910      2402\n",
            "weighted avg      0.911     0.911     0.910      2402\n",
            "\n"
          ]
        },
        {
          "data": {
            "image/png": "[encoded data removed]",
            "text/plain": [
              "<Figure size 1000x800 with 2 Axes>"
            ]
          },
          "metadata": {},
          "output_type": "display_data"
        },
        {
          "name": "stdout",
          "output_type": "stream",
          "text": [
            "\n",
            "Model saved to aerial_classifier.pth\n"
          ]
        }
      ],
      "source": [
        "# EfficientNet-B0 Training Script with Enhanced Augmentations + Accuracy in Evaluation\n",
        "\n",
        "from google.colab import drive\n",
        "drive.mount('/content/drive')\n",
        "\n",
        "import os\n",
        "import shutil\n",
        "import numpy as np\n",
        "import torch\n",
        "import torch.nn as nn\n",
        "import torch.optim as optim\n",
        "from torchvision import datasets, transforms, models\n",
        "from torch.utils.data import DataLoader\n",
        "from sklearn.metrics import (\n",
        "    precision_score, recall_score, f1_score,\n",
        "    accuracy_score,  # 新增 accuracy_score\n",
        "    classification_report, confusion_matrix\n",
        ")\n",
        "from tqdm import tqdm\n",
        "import matplotlib.pyplot as plt\n",
        "import seaborn as sns\n",
        "import random\n",
        "\n",
        "SEED = 42\n",
        "random.seed(SEED)\n",
        "np.random.seed(SEED)\n",
        "torch.manual_seed(SEED)\n",
        "torch.cuda.manual_seed_all(SEED)\n",
        "torch.backends.cudnn.deterministic = True\n",
        "torch.backends.cudnn.benchmark = False\n",
        "\n",
        "config = {\n",
        "    \"data_dir\": \"/content/drive/MyDrive/9517 gp/Aerial_Landscapes\",\n",
        "    \"selected_classes\": [\n",
        "        \"Agriculture\", \"Airport\", \"Beach\", \"City\", \"Desert\",\n",
        "        \"Forest\", \"Grassland\", \"Highway\", \"Lake\", \"Mountain\",\n",
        "        \"Parking\", \"Port\", \"Railway\", \"Residential\", \"River\"\n",
        "    ],\n",
        "    \"train_dir\": \"train_data\",\n",
        "    \"test_dir\": \"test_data\",\n",
        "    \"batch_size\": 32,\n",
        "    \"num_epochs\": 100,\n",
        "    \"learning_rate\": 0.001,\n",
        "    \"device\": torch.device(\"cuda\" if torch.cuda.is_available() else \"cpu\")\n",
        "}\n",
        "\n",
        "def prepare_datasets():\n",
        "    for d in [config[\"train_dir\"], config[\"test_dir\"]]:\n",
        "        if os.path.exists(d):\n",
        "            shutil.rmtree(d)\n",
        "        os.makedirs(d)\n",
        "    for cls in tqdm(config[\"selected_classes\"], desc=\"Splitting datasets\"):\n",
        "        os.makedirs(os.path.join(config[\"train_dir\"], cls), exist_ok=True)\n",
        "        os.makedirs(os.path.join(config[\"test_dir\"], cls), exist_ok=True)\n",
        "\n",
        "        src = os.path.join(config[\"data_dir\"], cls)\n",
        "        imgs = [f for f in os.listdir(src)\n",
        "                if f.lower().endswith(('.jpg', '.jpeg', '.png'))]\n",
        "        if not imgs:\n",
        "            raise FileNotFoundError(f\"No images in {src}\")\n",
        "        np.random.shuffle(imgs)\n",
        "        split = int(0.8 * len(imgs))\n",
        "        for im in imgs[:split]:\n",
        "            shutil.copy2(os.path.join(src, im),\n",
        "                         os.path.join(config[\"train_dir\"], cls, im))\n",
        "        for im in imgs[split:]:\n",
        "            shutil.copy2(os.path.join(src, im),\n",
        "                         os.path.join(config[\"test_dir\"], cls, im))\n",
        "\n",
        "def get_dataloaders():\n",
        "    train_transform = transforms.Compose([\n",
        "        transforms.Resize(256),\n",
        "        transforms.RandomRotation(15),\n",
        "        transforms.ColorJitter(brightness=0.2, contrast=0.2, saturation=0.2),\n",
        "        transforms.RandomHorizontalFlip(),\n",
        "        transforms.RandomVerticalFlip(0.1),\n",
        "        transforms.RandomResizedCrop(224, scale=(0.8, 1.0)),\n",
        "        transforms.ToTensor(),\n",
        "        transforms.Normalize([0.485, 0.456, 0.406],\n",
        "                             [0.229, 0.224, 0.225])\n",
        "    ])\n",
        "    test_transform = transforms.Compose([\n",
        "        transforms.Resize(256),\n",
        "        transforms.CenterCrop(224),\n",
        "        transforms.ToTensor(),\n",
        "        transforms.Normalize([0.485, 0.456, 0.406],\n",
        "                             [0.229, 0.224, 0.225])\n",
        "    ])\n",
        "\n",
        "    train_ds = datasets.ImageFolder(config[\"train_dir\"], transform=train_transform)\n",
        "    test_ds  = datasets.ImageFolder(config[\"test_dir\"],  transform=test_transform)\n",
        "\n",
        "    train_loader = DataLoader(train_ds, batch_size=config[\"batch_size\"], shuffle=True)\n",
        "    test_loader  = DataLoader(test_ds,  batch_size=config[\"batch_size\"], shuffle=False)\n",
        "\n",
        "    return train_loader, test_loader, train_ds.classes\n",
        "\n",
        "def initialize_model():\n",
        "    model = models.efficientnet_b0(weights=models.EfficientNet_B0_Weights.DEFAULT)\n",
        "    for p in model.parameters():\n",
        "        p.requires_grad = False\n",
        "    in_ftrs = model.classifier[-1].in_features\n",
        "    model.classifier[1] = nn.Linear(in_ftrs, len(config[\"selected_classes\"]))\n",
        "    model = model.to(config[\"device\"])\n",
        "    criterion = nn.CrossEntropyLoss()\n",
        "    optimizer = optim.Adam(model.classifier[-1].parameters(),\n",
        "                           lr=config[\"learning_rate\"])\n",
        "    return model, criterion, optimizer\n",
        "\n",
        "def train_model(model, criterion, optimizer, loader):\n",
        "    model.train()\n",
        "    running_loss, correct, total = 0.0, 0, 0\n",
        "    for x, y in tqdm(loader, desc=\"  Training\", leave=False):\n",
        "        x, y = x.to(config[\"device\"]), y.to(config[\"device\"])\n",
        "        optimizer.zero_grad()\n",
        "        out = model(x)\n",
        "        loss = criterion(out, y)\n",
        "        loss.backward()\n",
        "        optimizer.step()\n",
        "        running_loss += loss.item()\n",
        "        preds = out.argmax(dim=1)\n",
        "        total += y.size(0)\n",
        "        correct += (preds == y).sum().item()\n",
        "    return running_loss / len(loader), correct / total\n",
        "\n",
        "def evaluate_model(model, loader, classes):\n",
        "    model.eval()\n",
        "    ys, ps = [], []\n",
        "    with torch.no_grad():\n",
        "        for x, y in tqdm(loader, desc=\"  Evaluating\", leave=False):\n",
        "            x, y = x.to(config[\"device\"]), y.to(config[\"device\"])\n",
        "            out = model(x)\n",
        "            preds = out.argmax(dim=1)\n",
        "            ys.extend(y.cpu().numpy())\n",
        "            ps.extend(preds.cpu().numpy())\n",
        "\n",
        "    prec = precision_score(ys, ps, average='weighted')\n",
        "    rec  = recall_score(ys, ps, average='weighted')\n",
        "    f1   = f1_score(ys, ps, average='weighted')\n",
        "    acc  = accuracy_score(ys, ps)  # 计算 accuracy\n",
        "\n",
        "    print(\"\\n\" + \"=\"*50)\n",
        "    print(f\"Precision: {prec:.4f}   Recall: {rec:.4f}   F1: {f1:.4f}   Accuracy: {acc:.4f}\")\n",
        "    print(\"=\"*50 + \"\\n\")\n",
        "\n",
        "    print(\"Classification Report:\")\n",
        "    print(classification_report(ys, ps, target_names=classes, digits=3))\n",
        "\n",
        "    cm = confusion_matrix(ys, ps)\n",
        "    plt.figure(figsize=(10, 8))\n",
        "    sns.heatmap(cm, annot=True, fmt='d', cmap='Blues',\n",
        "                xticklabels=classes, yticklabels=classes)\n",
        "    plt.title(\"Confusion Matrix\")\n",
        "    plt.xlabel(\"Predicted\")\n",
        "    plt.ylabel(\"Actual\")\n",
        "    plt.show()\n",
        "\n",
        "if __name__ == \"__main__\":\n",
        "    prepare_datasets()\n",
        "    train_loader, test_loader, class_names = get_dataloaders()\n",
        "    print(f\"[DEBUG] train samples: {len(train_loader.dataset)}\")\n",
        "    print(f\"[DEBUG] test  samples: {len(test_loader.dataset)}\")\n",
        "    print(f\"[DEBUG] classes: {class_names}\\n\")\n",
        "\n",
        "    model, criterion, optimizer = initialize_model()\n",
        "\n",
        "    train_losses, train_accs = [], []\n",
        "    print(\"Starting training...\\n\")\n",
        "    for epoch in range(1, config[\"num_epochs\"] + 1):\n",
        "        loss, acc = train_model(model, criterion, optimizer, train_loader)\n",
        "        train_losses.append(loss)\n",
        "        train_accs.append(acc)\n",
        "        print(f\"Epoch {epoch:3d}/{config['num_epochs']}: Loss={loss:.4f}, Acc={acc:.4f}\")\n",
        "\n",
        "    print(\"\\n=== Training History ===\")\n",
        "    for i, (l, a) in enumerate(zip(train_losses, train_accs), 1):\n",
        "        print(f\"Epoch {i:3d}: Loss={l:.4f}, Acc={a:.4f}\")\n",
        "\n",
        "    evaluate_model(model, test_loader, class_names)\n",
        "    torch.save(model.state_dict(), \"aerial_classifier.pth\")\n",
        "    print(\"\\nModel saved to aerial_classifier.pth\")\n"
      ]
    }
  ],
  "metadata": {
    "accelerator": "GPU",
    "colab": {
      "gpuType": "A100",
      "machine_shape": "hm",
      "provenance": []
    },
    "kernelspec": {
      "display_name": "Python 3",
      "name": "python3"
    },
    "language_info": {
      "name": "python"
    }
  },
  "nbformat": 4,
  "nbformat_minor": 0
}
