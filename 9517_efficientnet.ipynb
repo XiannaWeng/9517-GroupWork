{
  "nbformat": 4,
  "nbformat_minor": 0,
  "metadata": {
    "colab": {
      "provenance": [],
      "machine_shape": "hm",
      "gpuType": "A100"
    },
    "kernelspec": {
      "name": "python3",
      "display_name": "Python 3"
    },
    "language_info": {
      "name": "python"
    },
    "accelerator": "GPU"
  },
  "cells": [
    {
      "cell_type": "code",
      "execution_count": 1,
      "metadata": {
        "colab": {
          "base_uri": "https://localhost:8080/",
          "height": 1000
        },
        "id": "gVZDuZ_bRS9b",
        "outputId": "d0e52c1e-6b09-4bf6-9375-8f7588e4d4a5"
      },
      "outputs": [
        {
          "metadata": {
            "tags": null
          },
          "name": "stdout",
          "output_type": "stream",
          "text": [
            "Mounted at /content/drive\n"
          ]
        },
        {
          "output_type": "stream",
          "name": "stderr",
          "text": [
            "Splitting datasets: 100%|██████████| 15/15 [04:02<00:00, 16.19s/it]\n",
            "Downloading: \"https://download.pytorch.org/models/efficientnet_b0_rwightman-7f5810bc.pth\" to /root/.cache/torch/hub/checkpoints/efficientnet_b0_rwightman-7f5810bc.pth\n"
          ]
        },
        {
          "output_type": "stream",
          "name": "stdout",
          "text": [
            "[DEBUG] Loaded train dataset: 9608 images\n",
            "[DEBUG] Loaded test  dataset: 2402 images\n",
            "[DEBUG] Classes found: ['Agriculture', 'Airport', 'Beach', 'City', 'Desert', 'Forest', 'Grassland', 'Highway', 'Lake', 'Mountain', 'Parking', 'Port', 'Railway', 'Residential', 'River']\n",
            "\n"
          ]
        },
        {
          "output_type": "stream",
          "name": "stderr",
          "text": [
            "100%|██████████| 20.5M/20.5M [00:00<00:00, 232MB/s]\n"
          ]
        },
        {
          "output_type": "stream",
          "name": "stdout",
          "text": [
            "Starting training...\n",
            "\n"
          ]
        },
        {
          "output_type": "stream",
          "name": "stderr",
          "text": []
        },
        {
          "output_type": "stream",
          "name": "stdout",
          "text": [
            "Epoch   1/100: Loss = 1.1772, Acc = 0.6959\n"
          ]
        },
        {
          "output_type": "stream",
          "name": "stderr",
          "text": []
        },
        {
          "output_type": "stream",
          "name": "stdout",
          "text": [
            "Epoch   2/100: Loss = 0.7021, Acc = 0.7932\n"
          ]
        },
        {
          "output_type": "stream",
          "name": "stderr",
          "text": []
        },
        {
          "output_type": "stream",
          "name": "stdout",
          "text": [
            "Epoch   3/100: Loss = 0.6335, Acc = 0.8091\n"
          ]
        },
        {
          "output_type": "stream",
          "name": "stderr",
          "text": []
        },
        {
          "output_type": "stream",
          "name": "stdout",
          "text": [
            "Epoch   4/100: Loss = 0.5780, Acc = 0.8199\n"
          ]
        },
        {
          "output_type": "stream",
          "name": "stderr",
          "text": []
        },
        {
          "output_type": "stream",
          "name": "stdout",
          "text": [
            "Epoch   5/100: Loss = 0.5711, Acc = 0.8220\n"
          ]
        },
        {
          "output_type": "stream",
          "name": "stderr",
          "text": []
        },
        {
          "output_type": "stream",
          "name": "stdout",
          "text": [
            "Epoch   6/100: Loss = 0.5441, Acc = 0.8265\n"
          ]
        },
        {
          "output_type": "stream",
          "name": "stderr",
          "text": []
        },
        {
          "output_type": "stream",
          "name": "stdout",
          "text": [
            "Epoch   7/100: Loss = 0.5232, Acc = 0.8338\n"
          ]
        },
        {
          "output_type": "stream",
          "name": "stderr",
          "text": []
        },
        {
          "output_type": "stream",
          "name": "stdout",
          "text": [
            "Epoch   8/100: Loss = 0.5221, Acc = 0.8320\n"
          ]
        },
        {
          "output_type": "stream",
          "name": "stderr",
          "text": []
        },
        {
          "output_type": "stream",
          "name": "stdout",
          "text": [
            "Epoch   9/100: Loss = 0.5051, Acc = 0.8348\n"
          ]
        },
        {
          "output_type": "stream",
          "name": "stderr",
          "text": []
        },
        {
          "output_type": "stream",
          "name": "stdout",
          "text": [
            "Epoch  10/100: Loss = 0.4978, Acc = 0.8455\n"
          ]
        },
        {
          "output_type": "stream",
          "name": "stderr",
          "text": []
        },
        {
          "output_type": "stream",
          "name": "stdout",
          "text": [
            "Epoch  11/100: Loss = 0.5012, Acc = 0.8370\n"
          ]
        },
        {
          "output_type": "stream",
          "name": "stderr",
          "text": []
        },
        {
          "output_type": "stream",
          "name": "stdout",
          "text": [
            "Epoch  12/100: Loss = 0.5069, Acc = 0.8436\n"
          ]
        },
        {
          "output_type": "stream",
          "name": "stderr",
          "text": []
        },
        {
          "output_type": "stream",
          "name": "stdout",
          "text": [
            "Epoch  13/100: Loss = 0.5058, Acc = 0.8352\n"
          ]
        },
        {
          "output_type": "stream",
          "name": "stderr",
          "text": []
        },
        {
          "output_type": "stream",
          "name": "stdout",
          "text": [
            "Epoch  14/100: Loss = 0.4931, Acc = 0.8393\n"
          ]
        },
        {
          "output_type": "stream",
          "name": "stderr",
          "text": []
        },
        {
          "output_type": "stream",
          "name": "stdout",
          "text": [
            "Epoch  15/100: Loss = 0.4826, Acc = 0.8455\n"
          ]
        },
        {
          "output_type": "stream",
          "name": "stderr",
          "text": []
        },
        {
          "output_type": "stream",
          "name": "stdout",
          "text": [
            "Epoch  16/100: Loss = 0.4861, Acc = 0.8447\n"
          ]
        },
        {
          "output_type": "stream",
          "name": "stderr",
          "text": []
        },
        {
          "output_type": "stream",
          "name": "stdout",
          "text": [
            "Epoch  17/100: Loss = 0.5100, Acc = 0.8400\n"
          ]
        },
        {
          "output_type": "stream",
          "name": "stderr",
          "text": []
        },
        {
          "output_type": "stream",
          "name": "stdout",
          "text": [
            "Epoch  18/100: Loss = 0.4911, Acc = 0.8452\n"
          ]
        },
        {
          "output_type": "stream",
          "name": "stderr",
          "text": []
        },
        {
          "output_type": "stream",
          "name": "stdout",
          "text": [
            "Epoch  19/100: Loss = 0.4892, Acc = 0.8466\n"
          ]
        },
        {
          "output_type": "stream",
          "name": "stderr",
          "text": []
        },
        {
          "output_type": "stream",
          "name": "stdout",
          "text": [
            "Epoch  20/100: Loss = 0.4800, Acc = 0.8454\n"
          ]
        },
        {
          "output_type": "stream",
          "name": "stderr",
          "text": []
        },
        {
          "output_type": "stream",
          "name": "stdout",
          "text": [
            "Epoch  21/100: Loss = 0.4878, Acc = 0.8422\n"
          ]
        },
        {
          "output_type": "stream",
          "name": "stderr",
          "text": []
        },
        {
          "output_type": "stream",
          "name": "stdout",
          "text": [
            "Epoch  22/100: Loss = 0.4760, Acc = 0.8476\n"
          ]
        },
        {
          "output_type": "stream",
          "name": "stderr",
          "text": []
        },
        {
          "output_type": "stream",
          "name": "stdout",
          "text": [
            "Epoch  23/100: Loss = 0.5009, Acc = 0.8398\n"
          ]
        },
        {
          "output_type": "stream",
          "name": "stderr",
          "text": []
        },
        {
          "output_type": "stream",
          "name": "stdout",
          "text": [
            "Epoch  24/100: Loss = 0.4714, Acc = 0.8509\n"
          ]
        },
        {
          "output_type": "stream",
          "name": "stderr",
          "text": []
        },
        {
          "output_type": "stream",
          "name": "stdout",
          "text": [
            "Epoch  25/100: Loss = 0.4757, Acc = 0.8418\n"
          ]
        },
        {
          "output_type": "stream",
          "name": "stderr",
          "text": []
        },
        {
          "output_type": "stream",
          "name": "stdout",
          "text": [
            "Epoch  26/100: Loss = 0.4763, Acc = 0.8489\n"
          ]
        },
        {
          "output_type": "stream",
          "name": "stderr",
          "text": []
        },
        {
          "output_type": "stream",
          "name": "stdout",
          "text": [
            "Epoch  27/100: Loss = 0.4778, Acc = 0.8489\n"
          ]
        },
        {
          "output_type": "stream",
          "name": "stderr",
          "text": []
        },
        {
          "output_type": "stream",
          "name": "stdout",
          "text": [
            "Epoch  28/100: Loss = 0.4761, Acc = 0.8511\n"
          ]
        },
        {
          "output_type": "stream",
          "name": "stderr",
          "text": []
        },
        {
          "output_type": "stream",
          "name": "stdout",
          "text": [
            "Epoch  29/100: Loss = 0.4806, Acc = 0.8480\n"
          ]
        },
        {
          "output_type": "stream",
          "name": "stderr",
          "text": []
        },
        {
          "output_type": "stream",
          "name": "stdout",
          "text": [
            "Epoch  30/100: Loss = 0.4647, Acc = 0.8519\n"
          ]
        },
        {
          "output_type": "stream",
          "name": "stderr",
          "text": []
        },
        {
          "output_type": "stream",
          "name": "stdout",
          "text": [
            "Epoch  31/100: Loss = 0.4841, Acc = 0.8473\n"
          ]
        },
        {
          "output_type": "stream",
          "name": "stderr",
          "text": []
        },
        {
          "output_type": "stream",
          "name": "stdout",
          "text": [
            "Epoch  32/100: Loss = 0.4784, Acc = 0.8469\n"
          ]
        },
        {
          "output_type": "stream",
          "name": "stderr",
          "text": []
        },
        {
          "output_type": "stream",
          "name": "stdout",
          "text": [
            "Epoch  33/100: Loss = 0.4795, Acc = 0.8467\n"
          ]
        },
        {
          "output_type": "stream",
          "name": "stderr",
          "text": []
        },
        {
          "output_type": "stream",
          "name": "stdout",
          "text": [
            "Epoch  34/100: Loss = 0.4771, Acc = 0.8461\n"
          ]
        },
        {
          "output_type": "stream",
          "name": "stderr",
          "text": []
        },
        {
          "output_type": "stream",
          "name": "stdout",
          "text": [
            "Epoch  35/100: Loss = 0.4688, Acc = 0.8523\n"
          ]
        },
        {
          "output_type": "stream",
          "name": "stderr",
          "text": []
        },
        {
          "output_type": "stream",
          "name": "stdout",
          "text": [
            "Epoch  36/100: Loss = 0.4779, Acc = 0.8464\n"
          ]
        },
        {
          "output_type": "stream",
          "name": "stderr",
          "text": []
        },
        {
          "output_type": "stream",
          "name": "stdout",
          "text": [
            "Epoch  37/100: Loss = 0.4757, Acc = 0.8468\n"
          ]
        },
        {
          "output_type": "stream",
          "name": "stderr",
          "text": []
        },
        {
          "output_type": "stream",
          "name": "stdout",
          "text": [
            "Epoch  38/100: Loss = 0.4823, Acc = 0.8479\n"
          ]
        },
        {
          "output_type": "stream",
          "name": "stderr",
          "text": []
        },
        {
          "output_type": "stream",
          "name": "stdout",
          "text": [
            "Epoch  39/100: Loss = 0.4611, Acc = 0.8510\n"
          ]
        },
        {
          "output_type": "stream",
          "name": "stderr",
          "text": []
        },
        {
          "output_type": "stream",
          "name": "stdout",
          "text": [
            "Epoch  40/100: Loss = 0.4588, Acc = 0.8543\n"
          ]
        },
        {
          "output_type": "stream",
          "name": "stderr",
          "text": []
        },
        {
          "output_type": "stream",
          "name": "stdout",
          "text": [
            "Epoch  41/100: Loss = 0.4620, Acc = 0.8469\n"
          ]
        },
        {
          "output_type": "stream",
          "name": "stderr",
          "text": []
        },
        {
          "output_type": "stream",
          "name": "stdout",
          "text": [
            "Epoch  42/100: Loss = 0.4756, Acc = 0.8463\n"
          ]
        },
        {
          "output_type": "stream",
          "name": "stderr",
          "text": []
        },
        {
          "output_type": "stream",
          "name": "stdout",
          "text": [
            "Epoch  43/100: Loss = 0.4593, Acc = 0.8553\n"
          ]
        },
        {
          "output_type": "stream",
          "name": "stderr",
          "text": []
        },
        {
          "output_type": "stream",
          "name": "stdout",
          "text": [
            "Epoch  44/100: Loss = 0.4672, Acc = 0.8496\n"
          ]
        },
        {
          "output_type": "stream",
          "name": "stderr",
          "text": []
        },
        {
          "output_type": "stream",
          "name": "stdout",
          "text": [
            "Epoch  45/100: Loss = 0.4600, Acc = 0.8562\n"
          ]
        },
        {
          "output_type": "stream",
          "name": "stderr",
          "text": []
        },
        {
          "output_type": "stream",
          "name": "stdout",
          "text": [
            "Epoch  46/100: Loss = 0.4555, Acc = 0.8532\n"
          ]
        },
        {
          "output_type": "stream",
          "name": "stderr",
          "text": []
        },
        {
          "output_type": "stream",
          "name": "stdout",
          "text": [
            "Epoch  47/100: Loss = 0.4859, Acc = 0.8526\n"
          ]
        },
        {
          "output_type": "stream",
          "name": "stderr",
          "text": []
        },
        {
          "output_type": "stream",
          "name": "stdout",
          "text": [
            "Epoch  48/100: Loss = 0.4627, Acc = 0.8538\n"
          ]
        },
        {
          "output_type": "stream",
          "name": "stderr",
          "text": []
        },
        {
          "output_type": "stream",
          "name": "stdout",
          "text": [
            "Epoch  49/100: Loss = 0.4840, Acc = 0.8468\n"
          ]
        },
        {
          "output_type": "stream",
          "name": "stderr",
          "text": []
        },
        {
          "output_type": "stream",
          "name": "stdout",
          "text": [
            "Epoch  50/100: Loss = 0.4610, Acc = 0.8498\n"
          ]
        },
        {
          "output_type": "stream",
          "name": "stderr",
          "text": []
        },
        {
          "output_type": "stream",
          "name": "stdout",
          "text": [
            "Epoch  51/100: Loss = 0.4751, Acc = 0.8436\n"
          ]
        },
        {
          "output_type": "stream",
          "name": "stderr",
          "text": []
        },
        {
          "output_type": "stream",
          "name": "stdout",
          "text": [
            "Epoch  52/100: Loss = 0.4852, Acc = 0.8504\n"
          ]
        },
        {
          "output_type": "stream",
          "name": "stderr",
          "text": []
        },
        {
          "output_type": "stream",
          "name": "stdout",
          "text": [
            "Epoch  53/100: Loss = 0.4701, Acc = 0.8530\n"
          ]
        },
        {
          "output_type": "stream",
          "name": "stderr",
          "text": []
        },
        {
          "output_type": "stream",
          "name": "stdout",
          "text": [
            "Epoch  54/100: Loss = 0.4726, Acc = 0.8509\n"
          ]
        },
        {
          "output_type": "stream",
          "name": "stderr",
          "text": []
        },
        {
          "output_type": "stream",
          "name": "stdout",
          "text": [
            "Epoch  55/100: Loss = 0.4751, Acc = 0.8492\n"
          ]
        },
        {
          "output_type": "stream",
          "name": "stderr",
          "text": []
        },
        {
          "output_type": "stream",
          "name": "stdout",
          "text": [
            "Epoch  56/100: Loss = 0.4582, Acc = 0.8528\n"
          ]
        },
        {
          "output_type": "stream",
          "name": "stderr",
          "text": []
        },
        {
          "output_type": "stream",
          "name": "stdout",
          "text": [
            "Epoch  57/100: Loss = 0.4517, Acc = 0.8570\n"
          ]
        },
        {
          "output_type": "stream",
          "name": "stderr",
          "text": []
        },
        {
          "output_type": "stream",
          "name": "stdout",
          "text": [
            "Epoch  58/100: Loss = 0.4774, Acc = 0.8501\n"
          ]
        },
        {
          "output_type": "stream",
          "name": "stderr",
          "text": []
        },
        {
          "output_type": "stream",
          "name": "stdout",
          "text": [
            "Epoch  59/100: Loss = 0.4774, Acc = 0.8481\n"
          ]
        },
        {
          "output_type": "stream",
          "name": "stderr",
          "text": []
        },
        {
          "output_type": "stream",
          "name": "stdout",
          "text": [
            "Epoch  60/100: Loss = 0.4780, Acc = 0.8434\n"
          ]
        },
        {
          "output_type": "stream",
          "name": "stderr",
          "text": []
        },
        {
          "output_type": "stream",
          "name": "stdout",
          "text": [
            "Epoch  61/100: Loss = 0.4667, Acc = 0.8518\n"
          ]
        },
        {
          "output_type": "stream",
          "name": "stderr",
          "text": []
        },
        {
          "output_type": "stream",
          "name": "stdout",
          "text": [
            "Epoch  62/100: Loss = 0.4925, Acc = 0.8454\n"
          ]
        },
        {
          "output_type": "stream",
          "name": "stderr",
          "text": []
        },
        {
          "output_type": "stream",
          "name": "stdout",
          "text": [
            "Epoch  63/100: Loss = 0.4654, Acc = 0.8500\n"
          ]
        },
        {
          "output_type": "stream",
          "name": "stderr",
          "text": []
        },
        {
          "output_type": "stream",
          "name": "stdout",
          "text": [
            "Epoch  64/100: Loss = 0.4766, Acc = 0.8507\n"
          ]
        },
        {
          "output_type": "stream",
          "name": "stderr",
          "text": []
        },
        {
          "output_type": "stream",
          "name": "stdout",
          "text": [
            "Epoch  65/100: Loss = 0.4626, Acc = 0.8532\n"
          ]
        },
        {
          "output_type": "stream",
          "name": "stderr",
          "text": []
        },
        {
          "output_type": "stream",
          "name": "stdout",
          "text": [
            "Epoch  66/100: Loss = 0.4586, Acc = 0.8523\n"
          ]
        },
        {
          "output_type": "stream",
          "name": "stderr",
          "text": []
        },
        {
          "output_type": "stream",
          "name": "stdout",
          "text": [
            "Epoch  67/100: Loss = 0.4735, Acc = 0.8469\n"
          ]
        },
        {
          "output_type": "stream",
          "name": "stderr",
          "text": []
        },
        {
          "output_type": "stream",
          "name": "stdout",
          "text": [
            "Epoch  68/100: Loss = 0.4585, Acc = 0.8552\n"
          ]
        },
        {
          "output_type": "stream",
          "name": "stderr",
          "text": []
        },
        {
          "output_type": "stream",
          "name": "stdout",
          "text": [
            "Epoch  69/100: Loss = 0.4623, Acc = 0.8502\n"
          ]
        },
        {
          "output_type": "stream",
          "name": "stderr",
          "text": []
        },
        {
          "output_type": "stream",
          "name": "stdout",
          "text": [
            "Epoch  70/100: Loss = 0.4782, Acc = 0.8472\n"
          ]
        },
        {
          "output_type": "stream",
          "name": "stderr",
          "text": []
        },
        {
          "output_type": "stream",
          "name": "stdout",
          "text": [
            "Epoch  71/100: Loss = 0.4653, Acc = 0.8507\n"
          ]
        },
        {
          "output_type": "stream",
          "name": "stderr",
          "text": []
        },
        {
          "output_type": "stream",
          "name": "stdout",
          "text": [
            "Epoch  72/100: Loss = 0.4481, Acc = 0.8543\n"
          ]
        },
        {
          "output_type": "stream",
          "name": "stderr",
          "text": []
        },
        {
          "output_type": "stream",
          "name": "stdout",
          "text": [
            "Epoch  73/100: Loss = 0.4665, Acc = 0.8491\n"
          ]
        },
        {
          "output_type": "stream",
          "name": "stderr",
          "text": []
        },
        {
          "output_type": "stream",
          "name": "stdout",
          "text": [
            "Epoch  74/100: Loss = 0.4656, Acc = 0.8516\n"
          ]
        },
        {
          "output_type": "stream",
          "name": "stderr",
          "text": []
        },
        {
          "output_type": "stream",
          "name": "stdout",
          "text": [
            "Epoch  75/100: Loss = 0.4666, Acc = 0.8468\n"
          ]
        },
        {
          "output_type": "stream",
          "name": "stderr",
          "text": []
        },
        {
          "output_type": "stream",
          "name": "stdout",
          "text": [
            "Epoch  76/100: Loss = 0.4731, Acc = 0.8520\n"
          ]
        },
        {
          "output_type": "stream",
          "name": "stderr",
          "text": []
        },
        {
          "output_type": "stream",
          "name": "stdout",
          "text": [
            "Epoch  77/100: Loss = 0.4819, Acc = 0.8451\n"
          ]
        },
        {
          "output_type": "stream",
          "name": "stderr",
          "text": []
        },
        {
          "output_type": "stream",
          "name": "stdout",
          "text": [
            "Epoch  78/100: Loss = 0.4703, Acc = 0.8541\n"
          ]
        },
        {
          "output_type": "stream",
          "name": "stderr",
          "text": []
        },
        {
          "output_type": "stream",
          "name": "stdout",
          "text": [
            "Epoch  79/100: Loss = 0.4625, Acc = 0.8546\n"
          ]
        },
        {
          "output_type": "stream",
          "name": "stderr",
          "text": []
        },
        {
          "output_type": "stream",
          "name": "stdout",
          "text": [
            "Epoch  80/100: Loss = 0.4531, Acc = 0.8529\n"
          ]
        },
        {
          "output_type": "stream",
          "name": "stderr",
          "text": []
        },
        {
          "output_type": "stream",
          "name": "stdout",
          "text": [
            "Epoch  81/100: Loss = 0.4692, Acc = 0.8483\n"
          ]
        },
        {
          "output_type": "stream",
          "name": "stderr",
          "text": []
        },
        {
          "output_type": "stream",
          "name": "stdout",
          "text": [
            "Epoch  82/100: Loss = 0.4652, Acc = 0.8514\n"
          ]
        },
        {
          "output_type": "stream",
          "name": "stderr",
          "text": []
        },
        {
          "output_type": "stream",
          "name": "stdout",
          "text": [
            "Epoch  83/100: Loss = 0.4734, Acc = 0.8470\n"
          ]
        },
        {
          "output_type": "stream",
          "name": "stderr",
          "text": []
        },
        {
          "output_type": "stream",
          "name": "stdout",
          "text": [
            "Epoch  84/100: Loss = 0.4677, Acc = 0.8511\n"
          ]
        },
        {
          "output_type": "stream",
          "name": "stderr",
          "text": []
        },
        {
          "output_type": "stream",
          "name": "stdout",
          "text": [
            "Epoch  85/100: Loss = 0.4710, Acc = 0.8551\n"
          ]
        },
        {
          "output_type": "stream",
          "name": "stderr",
          "text": []
        },
        {
          "output_type": "stream",
          "name": "stdout",
          "text": [
            "Epoch  86/100: Loss = 0.4630, Acc = 0.8519\n"
          ]
        },
        {
          "output_type": "stream",
          "name": "stderr",
          "text": []
        },
        {
          "output_type": "stream",
          "name": "stdout",
          "text": [
            "Epoch  87/100: Loss = 0.4747, Acc = 0.8465\n"
          ]
        },
        {
          "output_type": "stream",
          "name": "stderr",
          "text": []
        },
        {
          "output_type": "stream",
          "name": "stdout",
          "text": [
            "Epoch  88/100: Loss = 0.4754, Acc = 0.8479\n"
          ]
        },
        {
          "output_type": "stream",
          "name": "stderr",
          "text": []
        },
        {
          "output_type": "stream",
          "name": "stdout",
          "text": [
            "Epoch  89/100: Loss = 0.4804, Acc = 0.8458\n"
          ]
        },
        {
          "output_type": "stream",
          "name": "stderr",
          "text": []
        },
        {
          "output_type": "stream",
          "name": "stdout",
          "text": [
            "Epoch  90/100: Loss = 0.4636, Acc = 0.8500\n"
          ]
        },
        {
          "output_type": "stream",
          "name": "stderr",
          "text": []
        },
        {
          "output_type": "stream",
          "name": "stdout",
          "text": [
            "Epoch  91/100: Loss = 0.4777, Acc = 0.8498\n"
          ]
        },
        {
          "output_type": "stream",
          "name": "stderr",
          "text": []
        },
        {
          "output_type": "stream",
          "name": "stdout",
          "text": [
            "Epoch  92/100: Loss = 0.4752, Acc = 0.8474\n"
          ]
        },
        {
          "output_type": "stream",
          "name": "stderr",
          "text": []
        },
        {
          "output_type": "stream",
          "name": "stdout",
          "text": [
            "Epoch  93/100: Loss = 0.4620, Acc = 0.8523\n"
          ]
        },
        {
          "output_type": "stream",
          "name": "stderr",
          "text": []
        },
        {
          "output_type": "stream",
          "name": "stdout",
          "text": [
            "Epoch  94/100: Loss = 0.4683, Acc = 0.8532\n"
          ]
        },
        {
          "output_type": "stream",
          "name": "stderr",
          "text": []
        },
        {
          "output_type": "stream",
          "name": "stdout",
          "text": [
            "Epoch  95/100: Loss = 0.4667, Acc = 0.8521\n"
          ]
        },
        {
          "output_type": "stream",
          "name": "stderr",
          "text": []
        },
        {
          "output_type": "stream",
          "name": "stdout",
          "text": [
            "Epoch  96/100: Loss = 0.4671, Acc = 0.8541\n"
          ]
        },
        {
          "output_type": "stream",
          "name": "stderr",
          "text": []
        },
        {
          "output_type": "stream",
          "name": "stdout",
          "text": [
            "Epoch  97/100: Loss = 0.4738, Acc = 0.8515\n"
          ]
        },
        {
          "output_type": "stream",
          "name": "stderr",
          "text": []
        },
        {
          "output_type": "stream",
          "name": "stdout",
          "text": [
            "Epoch  98/100: Loss = 0.4624, Acc = 0.8500\n"
          ]
        },
        {
          "output_type": "stream",
          "name": "stderr",
          "text": []
        },
        {
          "output_type": "stream",
          "name": "stdout",
          "text": [
            "Epoch  99/100: Loss = 0.4633, Acc = 0.8503\n"
          ]
        },
        {
          "output_type": "stream",
          "name": "stderr",
          "text": []
        },
        {
          "output_type": "stream",
          "name": "stdout",
          "text": [
            "Epoch 100/100: Loss = 0.4789, Acc = 0.8477\n",
            "\n",
            "=== Training History ===\n",
            "Epoch   1: Loss = 1.1772, Acc = 0.6959\n",
            "Epoch   2: Loss = 0.7021, Acc = 0.7932\n",
            "Epoch   3: Loss = 0.6335, Acc = 0.8091\n",
            "Epoch   4: Loss = 0.5780, Acc = 0.8199\n",
            "Epoch   5: Loss = 0.5711, Acc = 0.8220\n",
            "Epoch   6: Loss = 0.5441, Acc = 0.8265\n",
            "Epoch   7: Loss = 0.5232, Acc = 0.8338\n",
            "Epoch   8: Loss = 0.5221, Acc = 0.8320\n",
            "Epoch   9: Loss = 0.5051, Acc = 0.8348\n",
            "Epoch  10: Loss = 0.4978, Acc = 0.8455\n",
            "Epoch  11: Loss = 0.5012, Acc = 0.8370\n",
            "Epoch  12: Loss = 0.5069, Acc = 0.8436\n",
            "Epoch  13: Loss = 0.5058, Acc = 0.8352\n",
            "Epoch  14: Loss = 0.4931, Acc = 0.8393\n",
            "Epoch  15: Loss = 0.4826, Acc = 0.8455\n",
            "Epoch  16: Loss = 0.4861, Acc = 0.8447\n",
            "Epoch  17: Loss = 0.5100, Acc = 0.8400\n",
            "Epoch  18: Loss = 0.4911, Acc = 0.8452\n",
            "Epoch  19: Loss = 0.4892, Acc = 0.8466\n",
            "Epoch  20: Loss = 0.4800, Acc = 0.8454\n",
            "Epoch  21: Loss = 0.4878, Acc = 0.8422\n",
            "Epoch  22: Loss = 0.4760, Acc = 0.8476\n",
            "Epoch  23: Loss = 0.5009, Acc = 0.8398\n",
            "Epoch  24: Loss = 0.4714, Acc = 0.8509\n",
            "Epoch  25: Loss = 0.4757, Acc = 0.8418\n",
            "Epoch  26: Loss = 0.4763, Acc = 0.8489\n",
            "Epoch  27: Loss = 0.4778, Acc = 0.8489\n",
            "Epoch  28: Loss = 0.4761, Acc = 0.8511\n",
            "Epoch  29: Loss = 0.4806, Acc = 0.8480\n",
            "Epoch  30: Loss = 0.4647, Acc = 0.8519\n",
            "Epoch  31: Loss = 0.4841, Acc = 0.8473\n",
            "Epoch  32: Loss = 0.4784, Acc = 0.8469\n",
            "Epoch  33: Loss = 0.4795, Acc = 0.8467\n",
            "Epoch  34: Loss = 0.4771, Acc = 0.8461\n",
            "Epoch  35: Loss = 0.4688, Acc = 0.8523\n",
            "Epoch  36: Loss = 0.4779, Acc = 0.8464\n",
            "Epoch  37: Loss = 0.4757, Acc = 0.8468\n",
            "Epoch  38: Loss = 0.4823, Acc = 0.8479\n",
            "Epoch  39: Loss = 0.4611, Acc = 0.8510\n",
            "Epoch  40: Loss = 0.4588, Acc = 0.8543\n",
            "Epoch  41: Loss = 0.4620, Acc = 0.8469\n",
            "Epoch  42: Loss = 0.4756, Acc = 0.8463\n",
            "Epoch  43: Loss = 0.4593, Acc = 0.8553\n",
            "Epoch  44: Loss = 0.4672, Acc = 0.8496\n",
            "Epoch  45: Loss = 0.4600, Acc = 0.8562\n",
            "Epoch  46: Loss = 0.4555, Acc = 0.8532\n",
            "Epoch  47: Loss = 0.4859, Acc = 0.8526\n",
            "Epoch  48: Loss = 0.4627, Acc = 0.8538\n",
            "Epoch  49: Loss = 0.4840, Acc = 0.8468\n",
            "Epoch  50: Loss = 0.4610, Acc = 0.8498\n",
            "Epoch  51: Loss = 0.4751, Acc = 0.8436\n",
            "Epoch  52: Loss = 0.4852, Acc = 0.8504\n",
            "Epoch  53: Loss = 0.4701, Acc = 0.8530\n",
            "Epoch  54: Loss = 0.4726, Acc = 0.8509\n",
            "Epoch  55: Loss = 0.4751, Acc = 0.8492\n",
            "Epoch  56: Loss = 0.4582, Acc = 0.8528\n",
            "Epoch  57: Loss = 0.4517, Acc = 0.8570\n",
            "Epoch  58: Loss = 0.4774, Acc = 0.8501\n",
            "Epoch  59: Loss = 0.4774, Acc = 0.8481\n",
            "Epoch  60: Loss = 0.4780, Acc = 0.8434\n",
            "Epoch  61: Loss = 0.4667, Acc = 0.8518\n",
            "Epoch  62: Loss = 0.4925, Acc = 0.8454\n",
            "Epoch  63: Loss = 0.4654, Acc = 0.8500\n",
            "Epoch  64: Loss = 0.4766, Acc = 0.8507\n",
            "Epoch  65: Loss = 0.4626, Acc = 0.8532\n",
            "Epoch  66: Loss = 0.4586, Acc = 0.8523\n",
            "Epoch  67: Loss = 0.4735, Acc = 0.8469\n",
            "Epoch  68: Loss = 0.4585, Acc = 0.8552\n",
            "Epoch  69: Loss = 0.4623, Acc = 0.8502\n",
            "Epoch  70: Loss = 0.4782, Acc = 0.8472\n",
            "Epoch  71: Loss = 0.4653, Acc = 0.8507\n",
            "Epoch  72: Loss = 0.4481, Acc = 0.8543\n",
            "Epoch  73: Loss = 0.4665, Acc = 0.8491\n",
            "Epoch  74: Loss = 0.4656, Acc = 0.8516\n",
            "Epoch  75: Loss = 0.4666, Acc = 0.8468\n",
            "Epoch  76: Loss = 0.4731, Acc = 0.8520\n",
            "Epoch  77: Loss = 0.4819, Acc = 0.8451\n",
            "Epoch  78: Loss = 0.4703, Acc = 0.8541\n",
            "Epoch  79: Loss = 0.4625, Acc = 0.8546\n",
            "Epoch  80: Loss = 0.4531, Acc = 0.8529\n",
            "Epoch  81: Loss = 0.4692, Acc = 0.8483\n",
            "Epoch  82: Loss = 0.4652, Acc = 0.8514\n",
            "Epoch  83: Loss = 0.4734, Acc = 0.8470\n",
            "Epoch  84: Loss = 0.4677, Acc = 0.8511\n",
            "Epoch  85: Loss = 0.4710, Acc = 0.8551\n",
            "Epoch  86: Loss = 0.4630, Acc = 0.8519\n",
            "Epoch  87: Loss = 0.4747, Acc = 0.8465\n",
            "Epoch  88: Loss = 0.4754, Acc = 0.8479\n",
            "Epoch  89: Loss = 0.4804, Acc = 0.8458\n",
            "Epoch  90: Loss = 0.4636, Acc = 0.8500\n",
            "Epoch  91: Loss = 0.4777, Acc = 0.8498\n",
            "Epoch  92: Loss = 0.4752, Acc = 0.8474\n",
            "Epoch  93: Loss = 0.4620, Acc = 0.8523\n",
            "Epoch  94: Loss = 0.4683, Acc = 0.8532\n",
            "Epoch  95: Loss = 0.4667, Acc = 0.8521\n",
            "Epoch  96: Loss = 0.4671, Acc = 0.8541\n",
            "Epoch  97: Loss = 0.4738, Acc = 0.8515\n",
            "Epoch  98: Loss = 0.4624, Acc = 0.8500\n",
            "Epoch  99: Loss = 0.4633, Acc = 0.8503\n",
            "Epoch 100: Loss = 0.4789, Acc = 0.8477\n"
          ]
        },
        {
          "output_type": "stream",
          "name": "stderr",
          "text": []
        },
        {
          "output_type": "stream",
          "name": "stdout",
          "text": [
            "\n",
            "==================================================\n",
            "Model Evaluation Metrics:\n",
            "Precision: 0.8758\n",
            "Recall:    0.8755\n",
            "F1 Score:  0.8743\n",
            "==================================================\n",
            "\n",
            "Classification Report:\n",
            "              precision    recall  f1-score   support\n",
            "\n",
            " Agriculture      0.852     0.889     0.870       162\n",
            "     Airport      0.914     0.800     0.853       160\n",
            "       Beach      0.883     0.944     0.912       160\n",
            "        City      0.873     0.900     0.886       160\n",
            "      Desert      0.926     0.944     0.935       160\n",
            "      Forest      0.949     0.931     0.940       160\n",
            "   Grassland      0.931     0.925     0.928       160\n",
            "     Highway      0.808     0.919     0.860       160\n",
            "        Lake      0.765     0.631     0.692       160\n",
            "    Mountain      0.880     0.919     0.899       160\n",
            "     Parking      0.909     0.875     0.892       160\n",
            "        Port      0.908     0.800     0.850       160\n",
            "     Railway      0.854     0.912     0.882       160\n",
            " Residential      0.904     0.938     0.920       160\n",
            "       River      0.782     0.806     0.794       160\n",
            "\n",
            "    accuracy                          0.876      2402\n",
            "   macro avg      0.876     0.876     0.874      2402\n",
            "weighted avg      0.876     0.876     0.874      2402\n",
            "\n"
          ]
        },
        {
          "output_type": "display_data",
          "data": {
            "text/plain": [
              "<Figure size 1000x800 with 2 Axes>"
            ],
            "image/png": "[encoded data removed]"
          },
          "metadata": {}
        },
        {
          "output_type": "stream",
          "name": "stdout",
          "text": [
            "\n",
            "Model saved to aerial_classifier.pth\n"
          ]
        }
      ],
      "source": [
        "# EfficientNet-B0 Training Script with Drive Dataset, Debug Info, and Training History\n",
        "\n",
        "# 1. 挂载 Google Drive（Colab 环境）\n",
        "from google.colab import drive\n",
        "drive.mount('/content/drive')\n",
        "\n",
        "# 2. 基本依赖\n",
        "import os\n",
        "import shutil\n",
        "import numpy as np\n",
        "import torch\n",
        "import torch.nn as nn\n",
        "import torch.optim as optim\n",
        "from torchvision import datasets, transforms, models\n",
        "from torch.utils.data import DataLoader\n",
        "from sklearn.metrics import precision_score, recall_score, f1_score, classification_report, confusion_matrix\n",
        "from tqdm import tqdm\n",
        "import matplotlib.pyplot as plt\n",
        "import seaborn as sns\n",
        "import random\n",
        "\n",
        "# 3. 随机种子固定\n",
        "SEED = 42\n",
        "random.seed(SEED)\n",
        "np.random.seed(SEED)\n",
        "torch.manual_seed(SEED)\n",
        "torch.cuda.manual_seed_all(SEED)\n",
        "torch.backends.cudnn.deterministic = True\n",
        "torch.backends.cudnn.benchmark = False\n",
        "\n",
        "# 4. 配置\n",
        "config = {\n",
        "    # 指向你 Drive 中的 Aerial_Landscapes 目录\n",
        "    \"data_dir\": \"/content/drive/MyDrive/9517 gp/Aerial_Landscapes\",\n",
        "    \"selected_classes\": [\n",
        "        \"Agriculture\", \"Airport\", \"Beach\", \"City\", \"Desert\",\n",
        "        \"Forest\", \"Grassland\", \"Highway\", \"Lake\", \"Mountain\",\n",
        "        \"Parking\", \"Port\", \"Railway\", \"Residential\", \"River\"\n",
        "    ],\n",
        "    \"train_dir\": \"train_data\",\n",
        "    \"test_dir\": \"test_data\",\n",
        "    \"batch_size\": 32,\n",
        "    # 训练轮数改为 100\n",
        "    \"num_epochs\": 100,\n",
        "    \"learning_rate\": 0.001,\n",
        "    \"device\": torch.device(\"cuda\" if torch.cuda.is_available() else \"cpu\")\n",
        "}\n",
        "\n",
        "def prepare_datasets():\n",
        "    \"\"\"Create train/test splits with 80% training and 20% test data per class.\"\"\"\n",
        "    for d in [config[\"train_dir\"], config[\"test_dir\"]]:\n",
        "        if os.path.exists(d):\n",
        "            shutil.rmtree(d)\n",
        "        os.makedirs(d)\n",
        "\n",
        "    for cls in tqdm(config[\"selected_classes\"], desc=\"Splitting datasets\"):\n",
        "        os.makedirs(os.path.join(config[\"train_dir\"], cls), exist_ok=True)\n",
        "        os.makedirs(os.path.join(config[\"test_dir\"], cls), exist_ok=True)\n",
        "\n",
        "        src_dir = os.path.join(config[\"data_dir\"], cls)\n",
        "        all_images = [f for f in os.listdir(src_dir)\n",
        "                      if f.lower().endswith(('.jpg', '.jpeg', '.png'))]\n",
        "        if not all_images:\n",
        "            raise FileNotFoundError(f\"No images found in {src_dir}\")\n",
        "\n",
        "        np.random.shuffle(all_images)\n",
        "        split_idx = int(0.8 * len(all_images))\n",
        "\n",
        "        for img in all_images[:split_idx]:\n",
        "            shutil.copy2(os.path.join(src_dir, img),\n",
        "                         os.path.join(config[\"train_dir\"], cls, img))\n",
        "        for img in all_images[split_idx:]:\n",
        "            shutil.copy2(os.path.join(src_dir, img),\n",
        "                         os.path.join(config[\"test_dir\"], cls, img))\n",
        "\n",
        "def get_dataloaders():\n",
        "    \"\"\"Create augmented dataloaders.\"\"\"\n",
        "    train_transform = transforms.Compose([\n",
        "        transforms.Resize(256),\n",
        "        transforms.RandomResizedCrop(224),\n",
        "        transforms.RandomHorizontalFlip(),\n",
        "        transforms.ToTensor(),\n",
        "        transforms.Normalize([0.485, 0.456, 0.406],\n",
        "                             [0.229, 0.224, 0.225])\n",
        "    ])\n",
        "    test_transform = transforms.Compose([\n",
        "        transforms.Resize(256),\n",
        "        transforms.CenterCrop(224),\n",
        "        transforms.ToTensor(),\n",
        "        transforms.Normalize([0.485, 0.456, 0.406],\n",
        "                             [0.229, 0.224, 0.225])\n",
        "    ])\n",
        "\n",
        "    train_dataset = datasets.ImageFolder(config[\"train_dir\"], transform=train_transform)\n",
        "    test_dataset  = datasets.ImageFolder(config[\"test_dir\"],  transform=test_transform)\n",
        "\n",
        "    train_loader = DataLoader(train_dataset,\n",
        "                              batch_size=config[\"batch_size\"],\n",
        "                              shuffle=True)\n",
        "    test_loader  = DataLoader(test_dataset,\n",
        "                              batch_size=config[\"batch_size\"],\n",
        "                              shuffle=False)\n",
        "\n",
        "    return train_loader, test_loader, train_dataset.classes\n",
        "\n",
        "def initialize_model():\n",
        "    \"\"\"EfficientNet-B0 (smallest, fastest) fine-tune classifier.\"\"\"\n",
        "    model = models.efficientnet_b0(weights=models.EfficientNet_B0_Weights.DEFAULT)\n",
        "    for param in model.parameters():\n",
        "        param.requires_grad = False\n",
        "    num_ftrs = model.classifier[-1].in_features\n",
        "    model.classifier[1] = nn.Linear(num_ftrs, len(config[\"selected_classes\"]))\n",
        "    model = model.to(config[\"device\"])\n",
        "\n",
        "    criterion = nn.CrossEntropyLoss()\n",
        "    optimizer = optim.Adam(model.classifier[-1].parameters(),\n",
        "                           lr=config[\"learning_rate\"])\n",
        "    return model, criterion, optimizer\n",
        "\n",
        "def train_model(model, criterion, optimizer, train_loader):\n",
        "    model.train()\n",
        "    running_loss = 0.0\n",
        "    correct = 0\n",
        "    total = 0\n",
        "\n",
        "    for inputs, labels in tqdm(train_loader, desc=\"  Training\", leave=False):\n",
        "        inputs, labels = inputs.to(config[\"device\"]), labels.to(config[\"device\"])\n",
        "        optimizer.zero_grad()\n",
        "        outputs = model(inputs)\n",
        "        loss = criterion(outputs, labels)\n",
        "        loss.backward()\n",
        "        optimizer.step()\n",
        "\n",
        "        running_loss += loss.item()\n",
        "        _, preds = torch.max(outputs, 1)\n",
        "        total += labels.size(0)\n",
        "        correct += (preds == labels).sum().item()\n",
        "\n",
        "    epoch_loss = running_loss / len(train_loader)\n",
        "    epoch_acc  = correct / total\n",
        "    return epoch_loss, epoch_acc\n",
        "\n",
        "def evaluate_model(model, test_loader, class_names):\n",
        "    model.eval()\n",
        "    all_labels = []\n",
        "    all_preds  = []\n",
        "\n",
        "    with torch.no_grad():\n",
        "        for inputs, labels in tqdm(test_loader, desc=\"  Evaluating\", leave=False):\n",
        "            inputs, labels = inputs.to(config[\"device\"]), labels.to(config[\"device\"])\n",
        "            outputs = model(inputs)\n",
        "            _, preds = torch.max(outputs, 1)\n",
        "            all_labels.extend(labels.cpu().numpy())\n",
        "            all_preds.extend(preds.cpu().numpy())\n",
        "\n",
        "    precision = precision_score(all_labels, all_preds, average='weighted')\n",
        "    recall    = recall_score(all_labels, all_preds, average='weighted')\n",
        "    f1        = f1_score(all_labels, all_preds, average='weighted')\n",
        "\n",
        "    print(\"\\n\" + \"=\"*50)\n",
        "    print(\"Model Evaluation Metrics:\")\n",
        "    print(f\"Precision: {precision:.4f}\")\n",
        "    print(f\"Recall:    {recall:.4f}\")\n",
        "    print(f\"F1 Score:  {f1:.4f}\")\n",
        "    print(\"=\"*50 + \"\\n\")\n",
        "\n",
        "    print(\"Classification Report:\")\n",
        "    print(classification_report(all_labels, all_preds,\n",
        "                                target_names=class_names, digits=3))\n",
        "\n",
        "    cm = confusion_matrix(all_labels, all_preds)\n",
        "    plt.figure(figsize=(10, 8))\n",
        "    sns.heatmap(cm, annot=True, fmt='d', cmap='Blues',\n",
        "                xticklabels=class_names, yticklabels=class_names)\n",
        "    plt.title('Confusion Matrix')\n",
        "    plt.xlabel('Predicted')\n",
        "    plt.ylabel('Actual')\n",
        "    plt.show()\n",
        "\n",
        "if __name__ == \"__main__\":\n",
        "    # 数据准备\n",
        "    prepare_datasets()\n",
        "\n",
        "    # 获取 DataLoader\n",
        "    train_loader, test_loader, class_names = get_dataloaders()\n",
        "\n",
        "    # === DEBUG: dataset 加载检查 ===\n",
        "    print(f\"[DEBUG] Loaded train dataset: {len(train_loader.dataset)} images\")\n",
        "    print(f\"[DEBUG] Loaded test  dataset: {len(test_loader.dataset)} images\")\n",
        "    print(f\"[DEBUG] Classes found: {class_names}\\n\")\n",
        "\n",
        "    # 初始化模型、损失、优化器\n",
        "    model, criterion, optimizer = initialize_model()\n",
        "\n",
        "    # 用于记录训练历史\n",
        "    train_losses = []\n",
        "    train_accs   = []\n",
        "\n",
        "    print(\"Starting training...\\n\")\n",
        "    for epoch in range(1, config[\"num_epochs\"] + 1):\n",
        "        loss, acc = train_model(model, criterion, optimizer, train_loader)\n",
        "        train_losses.append(loss)\n",
        "        train_accs.append(acc)\n",
        "        print(f\"Epoch {epoch:3d}/{config['num_epochs']}: \"\n",
        "              f\"Loss = {loss:.4f}, Acc = {acc:.4f}\")\n",
        "\n",
        "    # 输出完整 Training History\n",
        "    print(\"\\n=== Training History ===\")\n",
        "    for idx, (loss, acc) in enumerate(zip(train_losses, train_accs), start=1):\n",
        "        print(f\"Epoch {idx:3d}: Loss = {loss:.4f}, Acc = {acc:.4f}\")\n",
        "\n",
        "    # 最终评估\n",
        "    evaluate_model(model, test_loader, class_names)\n",
        "\n",
        "    # 保存模型\n",
        "    torch.save(model.state_dict(), \"aerial_classifier.pth\")\n",
        "    print(\"\\nModel saved to aerial_classifier.pth\")\n"
      ]
    }
  ]
}