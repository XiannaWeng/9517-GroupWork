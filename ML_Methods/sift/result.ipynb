{
 "cells": [
  {
   "cell_type": "markdown",
   "metadata": {},
   "source": [
    "### SVM"
   ]
  },
  {
   "cell_type": "code",
   "execution_count": 4,
   "metadata": {},
   "outputs": [
    {
     "name": "stdout",
     "output_type": "stream",
     "text": [
      "\n",
      "[1] loading data...\n",
      "[2] Extract training set features...\n",
      "[3] Constructing a visual vocabulary...\n"
     ]
    },
    {
     "name": "stderr",
     "output_type": "stream",
     "text": [
      "/root/miniconda3/lib/python3.8/site-packages/sklearn/cluster/_kmeans.py:1934: FutureWarning: The default value of `n_init` will change from 3 to 'auto' in 1.4. Set the value of `n_init` explicitly to suppress the warning\n",
      "  super()._check_params_vs_input(X, default_n_init=3)\n"
     ]
    },
    {
     "name": "stdout",
     "output_type": "stream",
     "text": [
      "[4] Generate BoW features...\n",
      "[5] Training SVM...\n",
      "[6] Evaluate model ...\n",
      "\n",
      "===== 模型评估结果 =====\n",
      "Accuracy:  0.5875\n",
      "Precision: 0.5974\n",
      "Recall:    0.5875\n",
      "F1 Score:  0.5905\n",
      "\n",
      "Confusion Matrix:\n",
      " [[48  2  0  3  1  0  5  4  7  1  2  0  0  3  4]\n",
      " [ 3 45  2  6  1  0  0  3  2  0  1  2  9  2  4]\n",
      " [ 2  2 46  1  4  1  8  3  7  0  0  1  1  0  4]\n",
      " [ 2 11  3 43  0  0  0  2  2  0  0  6  7  1  3]\n",
      " [ 1  1  6  0 45  2  7  2  1  8  2  0  0  0  5]\n",
      " [ 0  1  2  1  1 64  7  0  2  0  0  0  0  0  2]\n",
      " [ 2  1  3  1 20  5 40  1  3  0  2  2  0  0  0]\n",
      " [ 2  7  5  0  1  2  9 38  8  1  1  0  5  0  1]\n",
      " [ 8  6  7  4  4  2  7  4 22  3  1  0  1  4  7]\n",
      " [ 0  0  5  1  9  1  0  0  5 58  0  0  1  0  0]\n",
      " [ 1  2  0  1  1  0  2  3  0  0 66  4  0  0  0]\n",
      " [ 0  3  2  9  0  0  0  0  8  0  0 51  2  2  3]\n",
      " [ 0  9  0  5  0  0  0  7  1  0  1  1 55  0  1]\n",
      " [ 1  4  0  4  1  0  0  2  8  0  2  0  0 57  1]\n",
      " [ 6  4  9  4  2  1  4  2 14  3  0  0  2  2 27]]\n",
      "\n",
      "Classification Report:\n",
      "               precision    recall  f1-score   support\n",
      "\n",
      " Agriculture       0.63      0.60      0.62        80\n",
      "     Airport       0.46      0.56      0.51        80\n",
      "       Beach       0.51      0.57      0.54        80\n",
      "        City       0.52      0.54      0.53        80\n",
      "      Desert       0.50      0.56      0.53        80\n",
      "      Forest       0.82      0.80      0.81        80\n",
      "   Grassland       0.45      0.50      0.47        80\n",
      "     Highway       0.54      0.47      0.50        80\n",
      "        Lake       0.24      0.28      0.26        80\n",
      "    Mountain       0.78      0.72      0.75        80\n",
      "     Parking       0.85      0.82      0.84        80\n",
      "        Port       0.76      0.64      0.69        80\n",
      "     Railway       0.66      0.69      0.67        80\n",
      " Residential       0.80      0.71      0.75        80\n",
      "       River       0.44      0.34      0.38        80\n",
      "\n",
      "    accuracy                           0.59      1200\n",
      "   macro avg       0.60      0.59      0.59      1200\n",
      "weighted avg       0.60      0.59      0.59      1200\n",
      "\n"
     ]
    }
   ],
   "source": [
    "%run sift.py"
   ]
  },
  {
   "cell_type": "markdown",
   "metadata": {},
   "source": [
    "### knn"
   ]
  },
  {
   "cell_type": "code",
   "execution_count": 5,
   "metadata": {},
   "outputs": [
    {
     "name": "stdout",
     "output_type": "stream",
     "text": [
      "\n",
      "[1] loading data...\n"
     ]
    },
    {
     "name": "stdout",
     "output_type": "stream",
     "text": [
      "[2] Extract training set features...\n",
      "[3] Constructing a visual vocabulary...\n"
     ]
    },
    {
     "name": "stderr",
     "output_type": "stream",
     "text": [
      "/root/miniconda3/lib/python3.8/site-packages/sklearn/cluster/_kmeans.py:1934: FutureWarning: The default value of `n_init` will change from 3 to 'auto' in 1.4. Set the value of `n_init` explicitly to suppress the warning\n",
      "  super()._check_params_vs_input(X, default_n_init=3)\n"
     ]
    },
    {
     "name": "stdout",
     "output_type": "stream",
     "text": [
      "[4] Generate BoW features...\n",
      "[5] Training KNN...\n",
      "[6] Evaluate model...\n",
      "\n",
      "===== 模型评估结果 =====\n",
      "Accuracy:  0.5333\n",
      "Precision: 0.5596\n",
      "Recall:    0.5333\n",
      "F1 Score:  0.5280\n",
      "\n",
      "Confusion Matrix:\n",
      " [[43  6  1  8  1  0  0  3  3  0  0  1  3  7  4]\n",
      " [ 0 37  0 11  1  0  0  4  0  0  0  1 21  2  3]\n",
      " [ 4  4 32  5  2  2  1  3 10  4  0  1  4  3  5]\n",
      " [ 0  7  0 54  0  0  0  1  0  1  0  1 12  3  1]\n",
      " [ 6  0  2  1 32  6  6  3  2 11  2  1  2  2  4]\n",
      " [ 0  0  1  0  1 62 11  0  0  0  1  1  0  1  2]\n",
      " [ 3  1  4  2 15  7 27  6  6  1  1  0  1  1  5]\n",
      " [ 0  7  1  1  0  3  1 34  4  2  1  1 16  5  4]\n",
      " [ 6  6  4  5  3  1  0 11 18  7  0  2  4  5  8]\n",
      " [ 2  1  0  5  4  0  0  1  7 55  0  0  2  2  1]\n",
      " [ 2  5  0  0  0  0  0  1  1  0 63  0  3  2  3]\n",
      " [ 0 16  0 22  0  0  0  0  1  3  0 30  4  1  3]\n",
      " [ 0  5  0  7  0  0  0  3  0  0  0  0 65  0  0]\n",
      " [ 0  7  0  6  0  0  0  0  1  1  0  0  1 64  0]\n",
      " [ 3 13  1  6  0  2  0  7 10  3  0  0  3  8 24]]\n",
      "\n",
      "Classification Report:\n",
      "               precision    recall  f1-score   support\n",
      "\n",
      " Agriculture       0.62      0.54      0.58        80\n",
      "     Airport       0.32      0.46      0.38        80\n",
      "       Beach       0.70      0.40      0.51        80\n",
      "        City       0.41      0.68      0.51        80\n",
      "      Desert       0.54      0.40      0.46        80\n",
      "      Forest       0.75      0.78      0.76        80\n",
      "   Grassland       0.59      0.34      0.43        80\n",
      "     Highway       0.44      0.42      0.43        80\n",
      "        Lake       0.29      0.23      0.25        80\n",
      "    Mountain       0.62      0.69      0.65        80\n",
      "     Parking       0.93      0.79      0.85        80\n",
      "        Port       0.77      0.38      0.50        80\n",
      "     Railway       0.46      0.81      0.59        80\n",
      " Residential       0.60      0.80      0.69        80\n",
      "       River       0.36      0.30      0.33        80\n",
      "\n",
      "    accuracy                           0.53      1200\n",
      "   macro avg       0.56      0.53      0.53      1200\n",
      "weighted avg       0.56      0.53      0.53      1200\n",
      "\n"
     ]
    }
   ],
   "source": [
    "%run sift_knn.py"
   ]
  }
 ],
 "metadata": {
  "kernelspec": {
   "display_name": "Python (base)",
   "language": "python",
   "name": "base"
  },
  "language_info": {
   "codemirror_mode": {
    "name": "ipython",
    "version": 3
   },
   "file_extension": ".py",
   "mimetype": "text/x-python",
   "name": "python",
   "nbconvert_exporter": "python",
   "pygments_lexer": "ipython3",
   "version": "3.8.10"
  }
 },
 "nbformat": 4,
 "nbformat_minor": 2
}
